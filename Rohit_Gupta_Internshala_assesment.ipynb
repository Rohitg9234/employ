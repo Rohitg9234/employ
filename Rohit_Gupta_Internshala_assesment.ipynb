{
  "cells": [
    {
      "cell_type": "markdown",
      "source": [
        "# 📑 **Table of Contents**  \n",
        "\n",
        "### **1. [Missing Salary Imputation](#1-missing-salary-imputation)**  \n",
        "- Imputing missing salary values using the median to maintain data consistency.  \n",
        "\n",
        "### **2. [Duplicate Employee ID Check](#2-duplicate-employee-id-check)**  \n",
        "- Ensuring employee IDs are unique to avoid calculation distortions.  \n",
        "\n",
        "### **3. [Performance Score Conversion](#3-performance-score-conversion)**  \n",
        "- Converting performance scores to integer format for accurate analysis.  \n",
        "\n",
        "### **4. [Date Format Standardization](#4-date-format-standardization)**  \n",
        "- Standardizing dates to YYYY-MM-DD format for consistency and trend analysis.  \n",
        "\n",
        "### **5. [Department Typo Correction](#5-department-typo-correction)**  \n",
        "- Fixing typos to ensure accurate aggregation and reporting.  \n",
        "\n",
        "### **6. [Salary Outlier Removal](#6-salary-outlier-removal)**  \n",
        "- Removing extreme salary values to prevent skewed statistical analysis.  \n",
        "\n",
        "### **7. [Email Domain Extraction](#7-email-domain-extraction)**  \n",
        "- Extracting email domains for better grouping and categorization.  \n",
        "\n",
        "### **8. [Salary Correlation Calculation](#8-salary-correlation-calculation)**  \n",
        "- Calculating the correlation between salary and other key factors.  \n",
        "\n",
        "### **9. [Average Salary Aggregation](#9-average-salary-aggregation)**  \n",
        "- Aggregating average salary per department and job level for insights.  \n",
        "\n",
        "### **10. [Duplicate Row Removal](#1-duplicate-row-removal)**   \n",
        "- Removing duplicate rows to ensure data integrity and accuracy.  \n"
      ],
      "metadata": {
        "id": "O2Y2k7x2wMg6"
      },
      "id": "O2Y2k7x2wMg6"
    },
    {
      "cell_type": "markdown",
      "source": [
        "> **📌 NOTE:** The above operations are performed based on the specific requirements of the dataset, not necessarily in the order listed.  \n",
        "> For example, **duplicate rows or IDs** should be removed **before imputing missing values** to avoid interference in statistical calculations.  \n",
        "> However, **all operations** mentioned are comprehensively covered in this notebook.  \n"
      ],
      "metadata": {
        "id": "zH6Esdm8w8kZ"
      },
      "id": "zH6Esdm8w8kZ"
    },
    {
      "cell_type": "markdown",
      "id": "8fa6d25b-5500-4097-8852-e1a49dee6595",
      "metadata": {
        "id": "8fa6d25b-5500-4097-8852-e1a49dee6595"
      },
      "source": [
        "### Import Libraries"
      ]
    },
    {
      "cell_type": "code",
      "execution_count": 40,
      "id": "38369dd0-7f07-4293-9289-6a8a8898492c",
      "metadata": {
        "id": "38369dd0-7f07-4293-9289-6a8a8898492c"
      },
      "outputs": [],
      "source": [
        "import pandas as pd\n",
        "from scipy.stats import pearsonr\n",
        "import seaborn as sns\n",
        "from sklearn.cluster import KMeans\n",
        "from sklearn.preprocessing import StandardScaler\n",
        "import matplotlib.pyplot as plt\n",
        "import os\n"
      ]
    },
    {
      "cell_type": "markdown",
      "id": "1a1a5d3c-ad49-4f50-93e8-03f4982a583b",
      "metadata": {
        "id": "1a1a5d3c-ad49-4f50-93e8-03f4982a583b"
      },
      "source": [
        "### Importing files"
      ]
    },
    {
      "cell_type": "code",
      "execution_count": 41,
      "id": "ced61095-267b-44be-987f-5c0c77cd52be",
      "metadata": {
        "colab": {
          "base_uri": "https://localhost:8080/",
          "height": 206
        },
        "id": "ced61095-267b-44be-987f-5c0c77cd52be",
        "outputId": "1fffb148-ce7f-4e89-83d0-8935fb37700e"
      },
      "outputs": [
        {
          "output_type": "execute_result",
          "data": {
            "text/plain": [
              "  employee_id first_name last_name                       email  \\\n",
              "0     EMP0001     Robert   Vasquez  anthonyhubbard@example.com   \n",
              "1     EMP0002    Barbara     Bruce    bonniethomas@example.com   \n",
              "2     EMP0003      Derek    Martin         smiller@example.net   \n",
              "3     EMP0004    Monique   Serrano        joseph51@example.net   \n",
              "4     EMP0005      Frank  Robinson       mariepope@example.net   \n",
              "\n",
              "                    phone  department          job_title    salary  \\\n",
              "0            395-797-9647          HR     Senior Analyst   89934.0   \n",
              "1  001-745-858-7716x94722          HR  Senior Consultant   77234.0   \n",
              "2        356-450-4481x832  Enginering  Senior Consultant   92953.0   \n",
              "3        001-852-702-8457       Sales    Senior Engineer  110460.0   \n",
              "4     +1-788-681-6711x207          HR    Manager Manager   75316.0   \n",
              "\n",
              "    join_date  performance_score  \n",
              "0  2022-09-06                5.0  \n",
              "1  2024-07-05                5.0  \n",
              "2  2022-11-02                3.0  \n",
              "3  2024-09-21                NaN  \n",
              "4  2023-07-29                2.0  "
            ],
            "text/html": [
              "\n",
              "  <div id=\"df-41e83db6-5137-4c90-a78e-c5a204e855cd\" class=\"colab-df-container\">\n",
              "    <div>\n",
              "<style scoped>\n",
              "    .dataframe tbody tr th:only-of-type {\n",
              "        vertical-align: middle;\n",
              "    }\n",
              "\n",
              "    .dataframe tbody tr th {\n",
              "        vertical-align: top;\n",
              "    }\n",
              "\n",
              "    .dataframe thead th {\n",
              "        text-align: right;\n",
              "    }\n",
              "</style>\n",
              "<table border=\"1\" class=\"dataframe\">\n",
              "  <thead>\n",
              "    <tr style=\"text-align: right;\">\n",
              "      <th></th>\n",
              "      <th>employee_id</th>\n",
              "      <th>first_name</th>\n",
              "      <th>last_name</th>\n",
              "      <th>email</th>\n",
              "      <th>phone</th>\n",
              "      <th>department</th>\n",
              "      <th>job_title</th>\n",
              "      <th>salary</th>\n",
              "      <th>join_date</th>\n",
              "      <th>performance_score</th>\n",
              "    </tr>\n",
              "  </thead>\n",
              "  <tbody>\n",
              "    <tr>\n",
              "      <th>0</th>\n",
              "      <td>EMP0001</td>\n",
              "      <td>Robert</td>\n",
              "      <td>Vasquez</td>\n",
              "      <td>anthonyhubbard@example.com</td>\n",
              "      <td>395-797-9647</td>\n",
              "      <td>HR</td>\n",
              "      <td>Senior Analyst</td>\n",
              "      <td>89934.0</td>\n",
              "      <td>2022-09-06</td>\n",
              "      <td>5.0</td>\n",
              "    </tr>\n",
              "    <tr>\n",
              "      <th>1</th>\n",
              "      <td>EMP0002</td>\n",
              "      <td>Barbara</td>\n",
              "      <td>Bruce</td>\n",
              "      <td>bonniethomas@example.com</td>\n",
              "      <td>001-745-858-7716x94722</td>\n",
              "      <td>HR</td>\n",
              "      <td>Senior Consultant</td>\n",
              "      <td>77234.0</td>\n",
              "      <td>2024-07-05</td>\n",
              "      <td>5.0</td>\n",
              "    </tr>\n",
              "    <tr>\n",
              "      <th>2</th>\n",
              "      <td>EMP0003</td>\n",
              "      <td>Derek</td>\n",
              "      <td>Martin</td>\n",
              "      <td>smiller@example.net</td>\n",
              "      <td>356-450-4481x832</td>\n",
              "      <td>Enginering</td>\n",
              "      <td>Senior Consultant</td>\n",
              "      <td>92953.0</td>\n",
              "      <td>2022-11-02</td>\n",
              "      <td>3.0</td>\n",
              "    </tr>\n",
              "    <tr>\n",
              "      <th>3</th>\n",
              "      <td>EMP0004</td>\n",
              "      <td>Monique</td>\n",
              "      <td>Serrano</td>\n",
              "      <td>joseph51@example.net</td>\n",
              "      <td>001-852-702-8457</td>\n",
              "      <td>Sales</td>\n",
              "      <td>Senior Engineer</td>\n",
              "      <td>110460.0</td>\n",
              "      <td>2024-09-21</td>\n",
              "      <td>NaN</td>\n",
              "    </tr>\n",
              "    <tr>\n",
              "      <th>4</th>\n",
              "      <td>EMP0005</td>\n",
              "      <td>Frank</td>\n",
              "      <td>Robinson</td>\n",
              "      <td>mariepope@example.net</td>\n",
              "      <td>+1-788-681-6711x207</td>\n",
              "      <td>HR</td>\n",
              "      <td>Manager Manager</td>\n",
              "      <td>75316.0</td>\n",
              "      <td>2023-07-29</td>\n",
              "      <td>2.0</td>\n",
              "    </tr>\n",
              "  </tbody>\n",
              "</table>\n",
              "</div>\n",
              "    <div class=\"colab-df-buttons\">\n",
              "\n",
              "  <div class=\"colab-df-container\">\n",
              "    <button class=\"colab-df-convert\" onclick=\"convertToInteractive('df-41e83db6-5137-4c90-a78e-c5a204e855cd')\"\n",
              "            title=\"Convert this dataframe to an interactive table.\"\n",
              "            style=\"display:none;\">\n",
              "\n",
              "  <svg xmlns=\"http://www.w3.org/2000/svg\" height=\"24px\" viewBox=\"0 -960 960 960\">\n",
              "    <path d=\"M120-120v-720h720v720H120Zm60-500h600v-160H180v160Zm220 220h160v-160H400v160Zm0 220h160v-160H400v160ZM180-400h160v-160H180v160Zm440 0h160v-160H620v160ZM180-180h160v-160H180v160Zm440 0h160v-160H620v160Z\"/>\n",
              "  </svg>\n",
              "    </button>\n",
              "\n",
              "  <style>\n",
              "    .colab-df-container {\n",
              "      display:flex;\n",
              "      gap: 12px;\n",
              "    }\n",
              "\n",
              "    .colab-df-convert {\n",
              "      background-color: #E8F0FE;\n",
              "      border: none;\n",
              "      border-radius: 50%;\n",
              "      cursor: pointer;\n",
              "      display: none;\n",
              "      fill: #1967D2;\n",
              "      height: 32px;\n",
              "      padding: 0 0 0 0;\n",
              "      width: 32px;\n",
              "    }\n",
              "\n",
              "    .colab-df-convert:hover {\n",
              "      background-color: #E2EBFA;\n",
              "      box-shadow: 0px 1px 2px rgba(60, 64, 67, 0.3), 0px 1px 3px 1px rgba(60, 64, 67, 0.15);\n",
              "      fill: #174EA6;\n",
              "    }\n",
              "\n",
              "    .colab-df-buttons div {\n",
              "      margin-bottom: 4px;\n",
              "    }\n",
              "\n",
              "    [theme=dark] .colab-df-convert {\n",
              "      background-color: #3B4455;\n",
              "      fill: #D2E3FC;\n",
              "    }\n",
              "\n",
              "    [theme=dark] .colab-df-convert:hover {\n",
              "      background-color: #434B5C;\n",
              "      box-shadow: 0px 1px 3px 1px rgba(0, 0, 0, 0.15);\n",
              "      filter: drop-shadow(0px 1px 2px rgba(0, 0, 0, 0.3));\n",
              "      fill: #FFFFFF;\n",
              "    }\n",
              "  </style>\n",
              "\n",
              "    <script>\n",
              "      const buttonEl =\n",
              "        document.querySelector('#df-41e83db6-5137-4c90-a78e-c5a204e855cd button.colab-df-convert');\n",
              "      buttonEl.style.display =\n",
              "        google.colab.kernel.accessAllowed ? 'block' : 'none';\n",
              "\n",
              "      async function convertToInteractive(key) {\n",
              "        const element = document.querySelector('#df-41e83db6-5137-4c90-a78e-c5a204e855cd');\n",
              "        const dataTable =\n",
              "          await google.colab.kernel.invokeFunction('convertToInteractive',\n",
              "                                                    [key], {});\n",
              "        if (!dataTable) return;\n",
              "\n",
              "        const docLinkHtml = 'Like what you see? Visit the ' +\n",
              "          '<a target=\"_blank\" href=https://colab.research.google.com/notebooks/data_table.ipynb>data table notebook</a>'\n",
              "          + ' to learn more about interactive tables.';\n",
              "        element.innerHTML = '';\n",
              "        dataTable['output_type'] = 'display_data';\n",
              "        await google.colab.output.renderOutput(dataTable, element);\n",
              "        const docLink = document.createElement('div');\n",
              "        docLink.innerHTML = docLinkHtml;\n",
              "        element.appendChild(docLink);\n",
              "      }\n",
              "    </script>\n",
              "  </div>\n",
              "\n",
              "\n",
              "<div id=\"df-6e217722-a942-40d8-b4b7-e9b981dd7b6c\">\n",
              "  <button class=\"colab-df-quickchart\" onclick=\"quickchart('df-6e217722-a942-40d8-b4b7-e9b981dd7b6c')\"\n",
              "            title=\"Suggest charts\"\n",
              "            style=\"display:none;\">\n",
              "\n",
              "<svg xmlns=\"http://www.w3.org/2000/svg\" height=\"24px\"viewBox=\"0 0 24 24\"\n",
              "     width=\"24px\">\n",
              "    <g>\n",
              "        <path d=\"M19 3H5c-1.1 0-2 .9-2 2v14c0 1.1.9 2 2 2h14c1.1 0 2-.9 2-2V5c0-1.1-.9-2-2-2zM9 17H7v-7h2v7zm4 0h-2V7h2v10zm4 0h-2v-4h2v4z\"/>\n",
              "    </g>\n",
              "</svg>\n",
              "  </button>\n",
              "\n",
              "<style>\n",
              "  .colab-df-quickchart {\n",
              "      --bg-color: #E8F0FE;\n",
              "      --fill-color: #1967D2;\n",
              "      --hover-bg-color: #E2EBFA;\n",
              "      --hover-fill-color: #174EA6;\n",
              "      --disabled-fill-color: #AAA;\n",
              "      --disabled-bg-color: #DDD;\n",
              "  }\n",
              "\n",
              "  [theme=dark] .colab-df-quickchart {\n",
              "      --bg-color: #3B4455;\n",
              "      --fill-color: #D2E3FC;\n",
              "      --hover-bg-color: #434B5C;\n",
              "      --hover-fill-color: #FFFFFF;\n",
              "      --disabled-bg-color: #3B4455;\n",
              "      --disabled-fill-color: #666;\n",
              "  }\n",
              "\n",
              "  .colab-df-quickchart {\n",
              "    background-color: var(--bg-color);\n",
              "    border: none;\n",
              "    border-radius: 50%;\n",
              "    cursor: pointer;\n",
              "    display: none;\n",
              "    fill: var(--fill-color);\n",
              "    height: 32px;\n",
              "    padding: 0;\n",
              "    width: 32px;\n",
              "  }\n",
              "\n",
              "  .colab-df-quickchart:hover {\n",
              "    background-color: var(--hover-bg-color);\n",
              "    box-shadow: 0 1px 2px rgba(60, 64, 67, 0.3), 0 1px 3px 1px rgba(60, 64, 67, 0.15);\n",
              "    fill: var(--button-hover-fill-color);\n",
              "  }\n",
              "\n",
              "  .colab-df-quickchart-complete:disabled,\n",
              "  .colab-df-quickchart-complete:disabled:hover {\n",
              "    background-color: var(--disabled-bg-color);\n",
              "    fill: var(--disabled-fill-color);\n",
              "    box-shadow: none;\n",
              "  }\n",
              "\n",
              "  .colab-df-spinner {\n",
              "    border: 2px solid var(--fill-color);\n",
              "    border-color: transparent;\n",
              "    border-bottom-color: var(--fill-color);\n",
              "    animation:\n",
              "      spin 1s steps(1) infinite;\n",
              "  }\n",
              "\n",
              "  @keyframes spin {\n",
              "    0% {\n",
              "      border-color: transparent;\n",
              "      border-bottom-color: var(--fill-color);\n",
              "      border-left-color: var(--fill-color);\n",
              "    }\n",
              "    20% {\n",
              "      border-color: transparent;\n",
              "      border-left-color: var(--fill-color);\n",
              "      border-top-color: var(--fill-color);\n",
              "    }\n",
              "    30% {\n",
              "      border-color: transparent;\n",
              "      border-left-color: var(--fill-color);\n",
              "      border-top-color: var(--fill-color);\n",
              "      border-right-color: var(--fill-color);\n",
              "    }\n",
              "    40% {\n",
              "      border-color: transparent;\n",
              "      border-right-color: var(--fill-color);\n",
              "      border-top-color: var(--fill-color);\n",
              "    }\n",
              "    60% {\n",
              "      border-color: transparent;\n",
              "      border-right-color: var(--fill-color);\n",
              "    }\n",
              "    80% {\n",
              "      border-color: transparent;\n",
              "      border-right-color: var(--fill-color);\n",
              "      border-bottom-color: var(--fill-color);\n",
              "    }\n",
              "    90% {\n",
              "      border-color: transparent;\n",
              "      border-bottom-color: var(--fill-color);\n",
              "    }\n",
              "  }\n",
              "</style>\n",
              "\n",
              "  <script>\n",
              "    async function quickchart(key) {\n",
              "      const quickchartButtonEl =\n",
              "        document.querySelector('#' + key + ' button');\n",
              "      quickchartButtonEl.disabled = true;  // To prevent multiple clicks.\n",
              "      quickchartButtonEl.classList.add('colab-df-spinner');\n",
              "      try {\n",
              "        const charts = await google.colab.kernel.invokeFunction(\n",
              "            'suggestCharts', [key], {});\n",
              "      } catch (error) {\n",
              "        console.error('Error during call to suggestCharts:', error);\n",
              "      }\n",
              "      quickchartButtonEl.classList.remove('colab-df-spinner');\n",
              "      quickchartButtonEl.classList.add('colab-df-quickchart-complete');\n",
              "    }\n",
              "    (() => {\n",
              "      let quickchartButtonEl =\n",
              "        document.querySelector('#df-6e217722-a942-40d8-b4b7-e9b981dd7b6c button');\n",
              "      quickchartButtonEl.style.display =\n",
              "        google.colab.kernel.accessAllowed ? 'block' : 'none';\n",
              "    })();\n",
              "  </script>\n",
              "</div>\n",
              "\n",
              "    </div>\n",
              "  </div>\n"
            ],
            "application/vnd.google.colaboratory.intrinsic+json": {
              "type": "dataframe",
              "variable_name": "df",
              "summary": "{\n  \"name\": \"df\",\n  \"rows\": 1260,\n  \"fields\": [\n    {\n      \"column\": \"employee_id\",\n      \"properties\": {\n        \"dtype\": \"string\",\n        \"num_unique_values\": 1200,\n        \"samples\": [\n          \"EMP1179\",\n          \"EMP0866\",\n          \"EMP0102\"\n        ],\n        \"semantic_type\": \"\",\n        \"description\": \"\"\n      }\n    },\n    {\n      \"column\": \"first_name\",\n      \"properties\": {\n        \"dtype\": \"category\",\n        \"num_unique_values\": 376,\n        \"samples\": [\n          \"Brandy\",\n          \"Roberta\",\n          \"Virginia\"\n        ],\n        \"semantic_type\": \"\",\n        \"description\": \"\"\n      }\n    },\n    {\n      \"column\": \"last_name\",\n      \"properties\": {\n        \"dtype\": \"category\",\n        \"num_unique_values\": 551,\n        \"samples\": [\n          \"Gill\",\n          \"Terrell\",\n          \"Stevens\"\n        ],\n        \"semantic_type\": \"\",\n        \"description\": \"\"\n      }\n    },\n    {\n      \"column\": \"email\",\n      \"properties\": {\n        \"dtype\": \"string\",\n        \"num_unique_values\": 994,\n        \"samples\": [\n          \"moorenicholas@example.net\",\n          \"kevinclark@example.org\",\n          \"brentgray@example.org\"\n        ],\n        \"semantic_type\": \"\",\n        \"description\": \"\"\n      }\n    },\n    {\n      \"column\": \"phone\",\n      \"properties\": {\n        \"dtype\": \"string\",\n        \"num_unique_values\": 1053,\n        \"samples\": [\n          \"531-928-4033\",\n          \"830-889-4870x605\",\n          \"001-920-848-7706\"\n        ],\n        \"semantic_type\": \"\",\n        \"description\": \"\"\n      }\n    },\n    {\n      \"column\": \"department\",\n      \"properties\": {\n        \"dtype\": \"category\",\n        \"num_unique_values\": 9,\n        \"samples\": [\n          \"Engineering\",\n          \"Enginering\",\n          \"Finance\"\n        ],\n        \"semantic_type\": \"\",\n        \"description\": \"\"\n      }\n    },\n    {\n      \"column\": \"job_title\",\n      \"properties\": {\n        \"dtype\": \"category\",\n        \"num_unique_values\": 20,\n        \"samples\": [\n          \"Senior Analyst\",\n          \"Lead Manager\",\n          \"Senior Manager\"\n        ],\n        \"semantic_type\": \"\",\n        \"description\": \"\"\n      }\n    },\n    {\n      \"column\": \"salary\",\n      \"properties\": {\n        \"dtype\": \"number\",\n        \"std\": 19560.159353835676,\n        \"min\": 15174.0,\n        \"max\": 157054.0,\n        \"num_unique_values\": 1063,\n        \"samples\": [\n          117045.0,\n          82313.0,\n          57405.0\n        ],\n        \"semantic_type\": \"\",\n        \"description\": \"\"\n      }\n    },\n    {\n      \"column\": \"join_date\",\n      \"properties\": {\n        \"dtype\": \"string\",\n        \"num_unique_values\": 848,\n        \"samples\": [\n          \"2021-03-12\",\n          \"2025-02-08\",\n          \"2024-07-31\"\n        ],\n        \"semantic_type\": \"\",\n        \"description\": \"\"\n      }\n    },\n    {\n      \"column\": \"performance_score\",\n      \"properties\": {\n        \"dtype\": \"number\",\n        \"std\": 1.394950803044094,\n        \"min\": 1.0,\n        \"max\": 5.0,\n        \"num_unique_values\": 5,\n        \"samples\": [\n          3.0,\n          1.0,\n          2.0\n        ],\n        \"semantic_type\": \"\",\n        \"description\": \"\"\n      }\n    }\n  ]\n}"
            }
          },
          "metadata": {},
          "execution_count": 41
        }
      ],
      "source": [
        "df=pd.read_csv(\"/content/empd.csv\")\n",
        "df.head()"
      ]
    },
    {
      "cell_type": "code",
      "execution_count": 42,
      "id": "06d0fef4-e45e-451f-be1e-00e2f2700933",
      "metadata": {
        "colab": {
          "base_uri": "https://localhost:8080/"
        },
        "id": "06d0fef4-e45e-451f-be1e-00e2f2700933",
        "outputId": "305954bd-78a5-4484-d209-98b6431c5f83"
      },
      "outputs": [
        {
          "output_type": "stream",
          "name": "stdout",
          "text": [
            "<class 'pandas.core.frame.DataFrame'>\n",
            "RangeIndex: 1260 entries, 0 to 1259\n",
            "Data columns (total 10 columns):\n",
            " #   Column             Non-Null Count  Dtype  \n",
            "---  ------             --------------  -----  \n",
            " 0   employee_id        1260 non-null   object \n",
            " 1   first_name         1100 non-null   object \n",
            " 2   last_name          1208 non-null   object \n",
            " 3   email              1149 non-null   object \n",
            " 4   phone              1260 non-null   object \n",
            " 5   department         1260 non-null   object \n",
            " 6   job_title          1260 non-null   object \n",
            " 7   salary             1125 non-null   float64\n",
            " 8   join_date          1150 non-null   object \n",
            " 9   performance_score  1133 non-null   float64\n",
            "dtypes: float64(2), object(8)\n",
            "memory usage: 98.6+ KB\n"
          ]
        }
      ],
      "source": [
        "df.info()"
      ]
    },
    {
      "cell_type": "code",
      "execution_count": 43,
      "id": "23994586-35c4-4fe8-a198-ea02f80b6ea1",
      "metadata": {
        "colab": {
          "base_uri": "https://localhost:8080/",
          "height": 397
        },
        "id": "23994586-35c4-4fe8-a198-ea02f80b6ea1",
        "outputId": "7dd2f208-0e38-4fb9-df07-79192e4dbaec"
      },
      "outputs": [
        {
          "output_type": "execute_result",
          "data": {
            "text/plain": [
              "employee_id            0\n",
              "first_name           160\n",
              "last_name             52\n",
              "email                111\n",
              "phone                  0\n",
              "department             0\n",
              "job_title              0\n",
              "salary               135\n",
              "join_date            110\n",
              "performance_score    127\n",
              "dtype: int64"
            ],
            "text/html": [
              "<div>\n",
              "<style scoped>\n",
              "    .dataframe tbody tr th:only-of-type {\n",
              "        vertical-align: middle;\n",
              "    }\n",
              "\n",
              "    .dataframe tbody tr th {\n",
              "        vertical-align: top;\n",
              "    }\n",
              "\n",
              "    .dataframe thead th {\n",
              "        text-align: right;\n",
              "    }\n",
              "</style>\n",
              "<table border=\"1\" class=\"dataframe\">\n",
              "  <thead>\n",
              "    <tr style=\"text-align: right;\">\n",
              "      <th></th>\n",
              "      <th>0</th>\n",
              "    </tr>\n",
              "  </thead>\n",
              "  <tbody>\n",
              "    <tr>\n",
              "      <th>employee_id</th>\n",
              "      <td>0</td>\n",
              "    </tr>\n",
              "    <tr>\n",
              "      <th>first_name</th>\n",
              "      <td>160</td>\n",
              "    </tr>\n",
              "    <tr>\n",
              "      <th>last_name</th>\n",
              "      <td>52</td>\n",
              "    </tr>\n",
              "    <tr>\n",
              "      <th>email</th>\n",
              "      <td>111</td>\n",
              "    </tr>\n",
              "    <tr>\n",
              "      <th>phone</th>\n",
              "      <td>0</td>\n",
              "    </tr>\n",
              "    <tr>\n",
              "      <th>department</th>\n",
              "      <td>0</td>\n",
              "    </tr>\n",
              "    <tr>\n",
              "      <th>job_title</th>\n",
              "      <td>0</td>\n",
              "    </tr>\n",
              "    <tr>\n",
              "      <th>salary</th>\n",
              "      <td>135</td>\n",
              "    </tr>\n",
              "    <tr>\n",
              "      <th>join_date</th>\n",
              "      <td>110</td>\n",
              "    </tr>\n",
              "    <tr>\n",
              "      <th>performance_score</th>\n",
              "      <td>127</td>\n",
              "    </tr>\n",
              "  </tbody>\n",
              "</table>\n",
              "</div><br><label><b>dtype:</b> int64</label>"
            ]
          },
          "metadata": {},
          "execution_count": 43
        }
      ],
      "source": [
        "df.isna().sum()"
      ]
    },
    {
      "cell_type": "markdown",
      "id": "a2d5d254-e6f0-4d7e-84b9-36f88d7396c1",
      "metadata": {
        "id": "a2d5d254-e6f0-4d7e-84b9-36f88d7396c1"
      },
      "source": [
        "# 🗑️ **1. Duplicate Row Removal**  \n",
        "**Reason:**  \n",
        "- Removing duplicate rows is the first and most crucial step because they can distort subsequent calculations and analysis, including:  \n",
        "   - **Aggregations** – Incorrect sum, mean, or median values  \n",
        "   - **Correlations** – Skewed relationship insights  \n",
        "   - **Imputation** – Inaccurate filling of missing values  \n",
        "\n",
        "> 👉 Removing duplicates ensures accurate statistical analysis and reliable insights.  "
      ]
    },
    {
      "cell_type": "code",
      "execution_count": 44,
      "id": "e652de3a-c69f-45c5-9364-fd6dcd89df89",
      "metadata": {
        "colab": {
          "base_uri": "https://localhost:8080/"
        },
        "id": "e652de3a-c69f-45c5-9364-fd6dcd89df89",
        "outputId": "68475259-cc22-44ff-911c-26fd5d6c2359"
      },
      "outputs": [
        {
          "output_type": "stream",
          "name": "stdout",
          "text": [
            "Duplicates were successfully removed.\n"
          ]
        }
      ],
      "source": [
        "# Remove duplicate rows considering all columns\n",
        "df = df.drop_duplicates()\n",
        "\n",
        "# Verify if there are any remaining duplicate rows\n",
        "if df.duplicated().any():\n",
        "    print(\"There are still duplicate rows.\")\n",
        "else:\n",
        "    print(\"Duplicates were successfully removed.\")"
      ]
    },
    {
      "cell_type": "markdown",
      "id": "ce43e8d0-0b9f-4c7b-9da7-03ba73ddfa20",
      "metadata": {
        "id": "ce43e8d0-0b9f-4c7b-9da7-03ba73ddfa20"
      },
      "source": [
        "# 🆔 **Duplicate Employee ID Check**  \n",
        "**Reason:**  \n",
        "- After removing general duplicates, it's critical to ensure that there are no duplicate `employee_id` values, as they can distort key metrics:  \n",
        "   - **Average Salary** – Overestimated or underestimated  \n",
        "   - **Performance Scores** – Incorrect assessment of employee performance  \n",
        "   - **Correlations** – Skewed relationships with other variables  \n",
        "\n",
        "> 👉 Resolving duplicate employee IDs ensures data integrity and accurate calculations.  \n"
      ]
    },
    {
      "cell_type": "code",
      "execution_count": 45,
      "id": "78c27572-2c43-4b62-9015-044eb1848e3d",
      "metadata": {
        "colab": {
          "base_uri": "https://localhost:8080/"
        },
        "id": "78c27572-2c43-4b62-9015-044eb1848e3d",
        "outputId": "92bce30b-eded-4b93-8721-1b07ea4e1130"
      },
      "outputs": [
        {
          "output_type": "execute_result",
          "data": {
            "text/plain": [
              "(1225, 10)"
            ]
          },
          "metadata": {},
          "execution_count": 45
        }
      ],
      "source": [
        "df.shape"
      ]
    },
    {
      "cell_type": "code",
      "execution_count": 46,
      "id": "ff29ed3e-cc99-4b6e-89a9-67e93075bc96",
      "metadata": {
        "colab": {
          "base_uri": "https://localhost:8080/"
        },
        "id": "ff29ed3e-cc99-4b6e-89a9-67e93075bc96",
        "outputId": "26339b1a-7cf6-43a3-d6da-5ae7fbf842f6"
      },
      "outputs": [
        {
          "output_type": "stream",
          "name": "stdout",
          "text": [
            "Total Unique employee are : 1200\n"
          ]
        }
      ],
      "source": [
        "unique_count = df['employee_id'].nunique()\n",
        "print(\"Total Unique employee are :\",unique_count)\n"
      ]
    },
    {
      "cell_type": "code",
      "execution_count": 47,
      "id": "c22353fc-6c87-4d46-a6c8-6620de204c1d",
      "metadata": {
        "colab": {
          "base_uri": "https://localhost:8080/"
        },
        "id": "c22353fc-6c87-4d46-a6c8-6620de204c1d",
        "outputId": "3b8a532b-901c-4997-f103-e84bb1e444f3"
      },
      "outputs": [
        {
          "output_type": "stream",
          "name": "stdout",
          "text": [
            "Duplicate employee_ids: Index(['EMP0745', 'EMP1061', 'EMP0635', 'EMP0579', 'EMP0135', 'EMP0275',\n",
            "       'EMP0271', 'EMP0346', 'EMP0468', 'EMP0054', 'EMP0718', 'EMP0802',\n",
            "       'EMP0247', 'EMP0103', 'EMP0379', 'EMP0699', 'EMP0979', 'EMP0487',\n",
            "       'EMP0750', 'EMP0018', 'EMP0347', 'EMP0458', 'EMP0306', 'EMP0595',\n",
            "       'EMP0150'],\n",
            "      dtype='object', name='employee_id')\n"
          ]
        }
      ],
      "source": [
        "\n",
        "# Identify employee_id values that appear more than once\n",
        "duplicate_employee_ids = df['employee_id'].value_counts()[df['employee_id'].value_counts() > 1].index\n",
        "\n",
        "# Print the duplicate employee_id values\n",
        "print(\"Duplicate employee_ids:\", duplicate_employee_ids)"
      ]
    },
    {
      "cell_type": "code",
      "execution_count": 48,
      "id": "20a1d323-8818-4278-b7d6-c61ca21d635c",
      "metadata": {
        "id": "20a1d323-8818-4278-b7d6-c61ca21d635c"
      },
      "outputs": [],
      "source": [
        "# Remove second and further occurrences of duplicate employee_id values, keeping the first\n",
        "df = df[~df.duplicated(subset='employee_id', keep='first')]"
      ]
    },
    {
      "cell_type": "code",
      "execution_count": 49,
      "id": "6a303787-5998-4026-bac6-280d613cbfdf",
      "metadata": {
        "colab": {
          "base_uri": "https://localhost:8080/"
        },
        "id": "6a303787-5998-4026-bac6-280d613cbfdf",
        "outputId": "6bd0741c-72e5-4ada-d241-3ac8ddeeaeda"
      },
      "outputs": [
        {
          "output_type": "execute_result",
          "data": {
            "text/plain": [
              "(1200, 10)"
            ]
          },
          "metadata": {},
          "execution_count": 49
        }
      ],
      "source": [
        "df.shape"
      ]
    },
    {
      "cell_type": "markdown",
      "id": "921c7d10-f8bb-48a9-a653-5c4dc49db6b2",
      "metadata": {
        "id": "921c7d10-f8bb-48a9-a653-5c4dc49db6b2"
      },
      "source": [
        "# 🏢 **Department Typo Correction**  \n",
        "**Reason:**  \n",
        "- Inconsistent department names can cause misgrouping during analysis, affecting:  \n",
        "   - **Average Salary Per Department** – Incorrect grouping  \n",
        "   - **Aggregations** – Misleading statistics  \n",
        "\n",
        "✏️ Correcting typos ensures consistent grouping and accurate reporting.  \n"
      ]
    },
    {
      "cell_type": "code",
      "execution_count": 50,
      "id": "7a9a207c-06fb-45e2-af63-6d24102f4ab8",
      "metadata": {
        "colab": {
          "base_uri": "https://localhost:8080/"
        },
        "id": "7a9a207c-06fb-45e2-af63-6d24102f4ab8",
        "outputId": "d9ff779e-293c-4953-a9e4-56039fe6a68b"
      },
      "outputs": [
        {
          "output_type": "execute_result",
          "data": {
            "text/plain": [
              "array(['HR', 'Enginering', 'Sales', 'IT', 'Marketing', 'Finance',\n",
              "       'Operations', 'Engineering', 'Marketting'], dtype=object)"
            ]
          },
          "metadata": {},
          "execution_count": 50
        }
      ],
      "source": [
        "df[\"department\"].unique()"
      ]
    },
    {
      "cell_type": "code",
      "execution_count": 51,
      "id": "a8cb3bd8-52cf-482a-b9f6-532a187f536f",
      "metadata": {
        "id": "a8cb3bd8-52cf-482a-b9f6-532a187f536f"
      },
      "outputs": [],
      "source": [
        "department_corrections = {\n",
        "    'Enginering': 'Engineering',\n",
        "    'Marketting': 'Marketing',\n",
        "}\n",
        "df['department'] = df['department'].replace(department_corrections)"
      ]
    },
    {
      "cell_type": "markdown",
      "id": "00a64a2d-c3bb-4992-bdaa-ae71b8428d24",
      "metadata": {
        "id": "00a64a2d-c3bb-4992-bdaa-ae71b8428d24"
      },
      "source": [
        "# 📊 **Performance Score Conversion**  \n",
        "**Reason:**  \n",
        "- The `performance_score` column must be numeric for accurate analysis:  \n",
        "   - **Statistical Operations** – Mean, median, and correlation require numeric values  \n",
        "   - **Data Integrity** – Avoids errors during analysis  \n",
        "\n",
        "🔢 Convert non-numeric values to **-1** to maintain consistency and prevent calculation errors.  \n"
      ]
    },
    {
      "cell_type": "code",
      "execution_count": 52,
      "id": "9efe8e60-3ee5-4e75-bee2-be36b0b3ec29",
      "metadata": {
        "colab": {
          "base_uri": "https://localhost:8080/",
          "height": 347
        },
        "id": "9efe8e60-3ee5-4e75-bee2-be36b0b3ec29",
        "outputId": "05641d0b-abd3-4786-ff2a-7717e0760d82"
      },
      "outputs": [
        {
          "output_type": "stream",
          "name": "stderr",
          "text": [
            "<ipython-input-52-087c3343c607>:5: FutureWarning: A value is trying to be set on a copy of a DataFrame or Series through chained assignment using an inplace method.\n",
            "The behavior will change in pandas 3.0. This inplace method will never work because the intermediate object on which we are setting values always behaves as a copy.\n",
            "\n",
            "For example, when doing 'df[col].method(value, inplace=True)', try using 'df.method({col: value}, inplace=True)' or df[col] = df[col].method(value) instead, to perform the operation inplace on the original object.\n",
            "\n",
            "\n",
            "  df['performance_score'].fillna(-1, inplace=True)\n"
          ]
        },
        {
          "output_type": "execute_result",
          "data": {
            "text/plain": [
              "  employee_id first_name last_name                       email  \\\n",
              "0     EMP0001     Robert   Vasquez  anthonyhubbard@example.com   \n",
              "1     EMP0002    Barbara     Bruce    bonniethomas@example.com   \n",
              "2     EMP0003      Derek    Martin         smiller@example.net   \n",
              "3     EMP0004    Monique   Serrano        joseph51@example.net   \n",
              "4     EMP0005      Frank  Robinson       mariepope@example.net   \n",
              "\n",
              "                    phone   department          job_title    salary  \\\n",
              "0            395-797-9647           HR     Senior Analyst   89934.0   \n",
              "1  001-745-858-7716x94722           HR  Senior Consultant   77234.0   \n",
              "2        356-450-4481x832  Engineering  Senior Consultant   92953.0   \n",
              "3        001-852-702-8457        Sales    Senior Engineer  110460.0   \n",
              "4     +1-788-681-6711x207           HR    Manager Manager   75316.0   \n",
              "\n",
              "    join_date  performance_score  \n",
              "0  2022-09-06                  5  \n",
              "1  2024-07-05                  5  \n",
              "2  2022-11-02                  3  \n",
              "3  2024-09-21                 -1  \n",
              "4  2023-07-29                  2  "
            ],
            "text/html": [
              "\n",
              "  <div id=\"df-0b4ce4db-f6d1-408f-92aa-f598bb972220\" class=\"colab-df-container\">\n",
              "    <div>\n",
              "<style scoped>\n",
              "    .dataframe tbody tr th:only-of-type {\n",
              "        vertical-align: middle;\n",
              "    }\n",
              "\n",
              "    .dataframe tbody tr th {\n",
              "        vertical-align: top;\n",
              "    }\n",
              "\n",
              "    .dataframe thead th {\n",
              "        text-align: right;\n",
              "    }\n",
              "</style>\n",
              "<table border=\"1\" class=\"dataframe\">\n",
              "  <thead>\n",
              "    <tr style=\"text-align: right;\">\n",
              "      <th></th>\n",
              "      <th>employee_id</th>\n",
              "      <th>first_name</th>\n",
              "      <th>last_name</th>\n",
              "      <th>email</th>\n",
              "      <th>phone</th>\n",
              "      <th>department</th>\n",
              "      <th>job_title</th>\n",
              "      <th>salary</th>\n",
              "      <th>join_date</th>\n",
              "      <th>performance_score</th>\n",
              "    </tr>\n",
              "  </thead>\n",
              "  <tbody>\n",
              "    <tr>\n",
              "      <th>0</th>\n",
              "      <td>EMP0001</td>\n",
              "      <td>Robert</td>\n",
              "      <td>Vasquez</td>\n",
              "      <td>anthonyhubbard@example.com</td>\n",
              "      <td>395-797-9647</td>\n",
              "      <td>HR</td>\n",
              "      <td>Senior Analyst</td>\n",
              "      <td>89934.0</td>\n",
              "      <td>2022-09-06</td>\n",
              "      <td>5</td>\n",
              "    </tr>\n",
              "    <tr>\n",
              "      <th>1</th>\n",
              "      <td>EMP0002</td>\n",
              "      <td>Barbara</td>\n",
              "      <td>Bruce</td>\n",
              "      <td>bonniethomas@example.com</td>\n",
              "      <td>001-745-858-7716x94722</td>\n",
              "      <td>HR</td>\n",
              "      <td>Senior Consultant</td>\n",
              "      <td>77234.0</td>\n",
              "      <td>2024-07-05</td>\n",
              "      <td>5</td>\n",
              "    </tr>\n",
              "    <tr>\n",
              "      <th>2</th>\n",
              "      <td>EMP0003</td>\n",
              "      <td>Derek</td>\n",
              "      <td>Martin</td>\n",
              "      <td>smiller@example.net</td>\n",
              "      <td>356-450-4481x832</td>\n",
              "      <td>Engineering</td>\n",
              "      <td>Senior Consultant</td>\n",
              "      <td>92953.0</td>\n",
              "      <td>2022-11-02</td>\n",
              "      <td>3</td>\n",
              "    </tr>\n",
              "    <tr>\n",
              "      <th>3</th>\n",
              "      <td>EMP0004</td>\n",
              "      <td>Monique</td>\n",
              "      <td>Serrano</td>\n",
              "      <td>joseph51@example.net</td>\n",
              "      <td>001-852-702-8457</td>\n",
              "      <td>Sales</td>\n",
              "      <td>Senior Engineer</td>\n",
              "      <td>110460.0</td>\n",
              "      <td>2024-09-21</td>\n",
              "      <td>-1</td>\n",
              "    </tr>\n",
              "    <tr>\n",
              "      <th>4</th>\n",
              "      <td>EMP0005</td>\n",
              "      <td>Frank</td>\n",
              "      <td>Robinson</td>\n",
              "      <td>mariepope@example.net</td>\n",
              "      <td>+1-788-681-6711x207</td>\n",
              "      <td>HR</td>\n",
              "      <td>Manager Manager</td>\n",
              "      <td>75316.0</td>\n",
              "      <td>2023-07-29</td>\n",
              "      <td>2</td>\n",
              "    </tr>\n",
              "  </tbody>\n",
              "</table>\n",
              "</div>\n",
              "    <div class=\"colab-df-buttons\">\n",
              "\n",
              "  <div class=\"colab-df-container\">\n",
              "    <button class=\"colab-df-convert\" onclick=\"convertToInteractive('df-0b4ce4db-f6d1-408f-92aa-f598bb972220')\"\n",
              "            title=\"Convert this dataframe to an interactive table.\"\n",
              "            style=\"display:none;\">\n",
              "\n",
              "  <svg xmlns=\"http://www.w3.org/2000/svg\" height=\"24px\" viewBox=\"0 -960 960 960\">\n",
              "    <path d=\"M120-120v-720h720v720H120Zm60-500h600v-160H180v160Zm220 220h160v-160H400v160Zm0 220h160v-160H400v160ZM180-400h160v-160H180v160Zm440 0h160v-160H620v160ZM180-180h160v-160H180v160Zm440 0h160v-160H620v160Z\"/>\n",
              "  </svg>\n",
              "    </button>\n",
              "\n",
              "  <style>\n",
              "    .colab-df-container {\n",
              "      display:flex;\n",
              "      gap: 12px;\n",
              "    }\n",
              "\n",
              "    .colab-df-convert {\n",
              "      background-color: #E8F0FE;\n",
              "      border: none;\n",
              "      border-radius: 50%;\n",
              "      cursor: pointer;\n",
              "      display: none;\n",
              "      fill: #1967D2;\n",
              "      height: 32px;\n",
              "      padding: 0 0 0 0;\n",
              "      width: 32px;\n",
              "    }\n",
              "\n",
              "    .colab-df-convert:hover {\n",
              "      background-color: #E2EBFA;\n",
              "      box-shadow: 0px 1px 2px rgba(60, 64, 67, 0.3), 0px 1px 3px 1px rgba(60, 64, 67, 0.15);\n",
              "      fill: #174EA6;\n",
              "    }\n",
              "\n",
              "    .colab-df-buttons div {\n",
              "      margin-bottom: 4px;\n",
              "    }\n",
              "\n",
              "    [theme=dark] .colab-df-convert {\n",
              "      background-color: #3B4455;\n",
              "      fill: #D2E3FC;\n",
              "    }\n",
              "\n",
              "    [theme=dark] .colab-df-convert:hover {\n",
              "      background-color: #434B5C;\n",
              "      box-shadow: 0px 1px 3px 1px rgba(0, 0, 0, 0.15);\n",
              "      filter: drop-shadow(0px 1px 2px rgba(0, 0, 0, 0.3));\n",
              "      fill: #FFFFFF;\n",
              "    }\n",
              "  </style>\n",
              "\n",
              "    <script>\n",
              "      const buttonEl =\n",
              "        document.querySelector('#df-0b4ce4db-f6d1-408f-92aa-f598bb972220 button.colab-df-convert');\n",
              "      buttonEl.style.display =\n",
              "        google.colab.kernel.accessAllowed ? 'block' : 'none';\n",
              "\n",
              "      async function convertToInteractive(key) {\n",
              "        const element = document.querySelector('#df-0b4ce4db-f6d1-408f-92aa-f598bb972220');\n",
              "        const dataTable =\n",
              "          await google.colab.kernel.invokeFunction('convertToInteractive',\n",
              "                                                    [key], {});\n",
              "        if (!dataTable) return;\n",
              "\n",
              "        const docLinkHtml = 'Like what you see? Visit the ' +\n",
              "          '<a target=\"_blank\" href=https://colab.research.google.com/notebooks/data_table.ipynb>data table notebook</a>'\n",
              "          + ' to learn more about interactive tables.';\n",
              "        element.innerHTML = '';\n",
              "        dataTable['output_type'] = 'display_data';\n",
              "        await google.colab.output.renderOutput(dataTable, element);\n",
              "        const docLink = document.createElement('div');\n",
              "        docLink.innerHTML = docLinkHtml;\n",
              "        element.appendChild(docLink);\n",
              "      }\n",
              "    </script>\n",
              "  </div>\n",
              "\n",
              "\n",
              "<div id=\"df-6a855c28-6aa4-4abd-b815-758b33aa1044\">\n",
              "  <button class=\"colab-df-quickchart\" onclick=\"quickchart('df-6a855c28-6aa4-4abd-b815-758b33aa1044')\"\n",
              "            title=\"Suggest charts\"\n",
              "            style=\"display:none;\">\n",
              "\n",
              "<svg xmlns=\"http://www.w3.org/2000/svg\" height=\"24px\"viewBox=\"0 0 24 24\"\n",
              "     width=\"24px\">\n",
              "    <g>\n",
              "        <path d=\"M19 3H5c-1.1 0-2 .9-2 2v14c0 1.1.9 2 2 2h14c1.1 0 2-.9 2-2V5c0-1.1-.9-2-2-2zM9 17H7v-7h2v7zm4 0h-2V7h2v10zm4 0h-2v-4h2v4z\"/>\n",
              "    </g>\n",
              "</svg>\n",
              "  </button>\n",
              "\n",
              "<style>\n",
              "  .colab-df-quickchart {\n",
              "      --bg-color: #E8F0FE;\n",
              "      --fill-color: #1967D2;\n",
              "      --hover-bg-color: #E2EBFA;\n",
              "      --hover-fill-color: #174EA6;\n",
              "      --disabled-fill-color: #AAA;\n",
              "      --disabled-bg-color: #DDD;\n",
              "  }\n",
              "\n",
              "  [theme=dark] .colab-df-quickchart {\n",
              "      --bg-color: #3B4455;\n",
              "      --fill-color: #D2E3FC;\n",
              "      --hover-bg-color: #434B5C;\n",
              "      --hover-fill-color: #FFFFFF;\n",
              "      --disabled-bg-color: #3B4455;\n",
              "      --disabled-fill-color: #666;\n",
              "  }\n",
              "\n",
              "  .colab-df-quickchart {\n",
              "    background-color: var(--bg-color);\n",
              "    border: none;\n",
              "    border-radius: 50%;\n",
              "    cursor: pointer;\n",
              "    display: none;\n",
              "    fill: var(--fill-color);\n",
              "    height: 32px;\n",
              "    padding: 0;\n",
              "    width: 32px;\n",
              "  }\n",
              "\n",
              "  .colab-df-quickchart:hover {\n",
              "    background-color: var(--hover-bg-color);\n",
              "    box-shadow: 0 1px 2px rgba(60, 64, 67, 0.3), 0 1px 3px 1px rgba(60, 64, 67, 0.15);\n",
              "    fill: var(--button-hover-fill-color);\n",
              "  }\n",
              "\n",
              "  .colab-df-quickchart-complete:disabled,\n",
              "  .colab-df-quickchart-complete:disabled:hover {\n",
              "    background-color: var(--disabled-bg-color);\n",
              "    fill: var(--disabled-fill-color);\n",
              "    box-shadow: none;\n",
              "  }\n",
              "\n",
              "  .colab-df-spinner {\n",
              "    border: 2px solid var(--fill-color);\n",
              "    border-color: transparent;\n",
              "    border-bottom-color: var(--fill-color);\n",
              "    animation:\n",
              "      spin 1s steps(1) infinite;\n",
              "  }\n",
              "\n",
              "  @keyframes spin {\n",
              "    0% {\n",
              "      border-color: transparent;\n",
              "      border-bottom-color: var(--fill-color);\n",
              "      border-left-color: var(--fill-color);\n",
              "    }\n",
              "    20% {\n",
              "      border-color: transparent;\n",
              "      border-left-color: var(--fill-color);\n",
              "      border-top-color: var(--fill-color);\n",
              "    }\n",
              "    30% {\n",
              "      border-color: transparent;\n",
              "      border-left-color: var(--fill-color);\n",
              "      border-top-color: var(--fill-color);\n",
              "      border-right-color: var(--fill-color);\n",
              "    }\n",
              "    40% {\n",
              "      border-color: transparent;\n",
              "      border-right-color: var(--fill-color);\n",
              "      border-top-color: var(--fill-color);\n",
              "    }\n",
              "    60% {\n",
              "      border-color: transparent;\n",
              "      border-right-color: var(--fill-color);\n",
              "    }\n",
              "    80% {\n",
              "      border-color: transparent;\n",
              "      border-right-color: var(--fill-color);\n",
              "      border-bottom-color: var(--fill-color);\n",
              "    }\n",
              "    90% {\n",
              "      border-color: transparent;\n",
              "      border-bottom-color: var(--fill-color);\n",
              "    }\n",
              "  }\n",
              "</style>\n",
              "\n",
              "  <script>\n",
              "    async function quickchart(key) {\n",
              "      const quickchartButtonEl =\n",
              "        document.querySelector('#' + key + ' button');\n",
              "      quickchartButtonEl.disabled = true;  // To prevent multiple clicks.\n",
              "      quickchartButtonEl.classList.add('colab-df-spinner');\n",
              "      try {\n",
              "        const charts = await google.colab.kernel.invokeFunction(\n",
              "            'suggestCharts', [key], {});\n",
              "      } catch (error) {\n",
              "        console.error('Error during call to suggestCharts:', error);\n",
              "      }\n",
              "      quickchartButtonEl.classList.remove('colab-df-spinner');\n",
              "      quickchartButtonEl.classList.add('colab-df-quickchart-complete');\n",
              "    }\n",
              "    (() => {\n",
              "      let quickchartButtonEl =\n",
              "        document.querySelector('#df-6a855c28-6aa4-4abd-b815-758b33aa1044 button');\n",
              "      quickchartButtonEl.style.display =\n",
              "        google.colab.kernel.accessAllowed ? 'block' : 'none';\n",
              "    })();\n",
              "  </script>\n",
              "</div>\n",
              "\n",
              "    </div>\n",
              "  </div>\n"
            ],
            "application/vnd.google.colaboratory.intrinsic+json": {
              "type": "dataframe",
              "variable_name": "df",
              "summary": "{\n  \"name\": \"df\",\n  \"rows\": 1200,\n  \"fields\": [\n    {\n      \"column\": \"employee_id\",\n      \"properties\": {\n        \"dtype\": \"string\",\n        \"num_unique_values\": 1200,\n        \"samples\": [\n          \"EMP1179\",\n          \"EMP0866\",\n          \"EMP0102\"\n        ],\n        \"semantic_type\": \"\",\n        \"description\": \"\"\n      }\n    },\n    {\n      \"column\": \"first_name\",\n      \"properties\": {\n        \"dtype\": \"category\",\n        \"num_unique_values\": 376,\n        \"samples\": [\n          \"Brandy\",\n          \"Roberta\",\n          \"Virginia\"\n        ],\n        \"semantic_type\": \"\",\n        \"description\": \"\"\n      }\n    },\n    {\n      \"column\": \"last_name\",\n      \"properties\": {\n        \"dtype\": \"category\",\n        \"num_unique_values\": 551,\n        \"samples\": [\n          \"Gill\",\n          \"Terrell\",\n          \"Stevens\"\n        ],\n        \"semantic_type\": \"\",\n        \"description\": \"\"\n      }\n    },\n    {\n      \"column\": \"email\",\n      \"properties\": {\n        \"dtype\": \"string\",\n        \"num_unique_values\": 992,\n        \"samples\": [\n          \"mirandacisneros@example.net\",\n          \"srogers@example.org\",\n          \"justin33@example.org\"\n        ],\n        \"semantic_type\": \"\",\n        \"description\": \"\"\n      }\n    },\n    {\n      \"column\": \"phone\",\n      \"properties\": {\n        \"dtype\": \"string\",\n        \"num_unique_values\": 1053,\n        \"samples\": [\n          \"531-928-4033\",\n          \"830-889-4870x605\",\n          \"001-920-848-7706\"\n        ],\n        \"semantic_type\": \"\",\n        \"description\": \"\"\n      }\n    },\n    {\n      \"column\": \"department\",\n      \"properties\": {\n        \"dtype\": \"category\",\n        \"num_unique_values\": 7,\n        \"samples\": [\n          \"HR\",\n          \"Engineering\",\n          \"Finance\"\n        ],\n        \"semantic_type\": \"\",\n        \"description\": \"\"\n      }\n    },\n    {\n      \"column\": \"job_title\",\n      \"properties\": {\n        \"dtype\": \"category\",\n        \"num_unique_values\": 20,\n        \"samples\": [\n          \"Senior Analyst\",\n          \"Lead Manager\",\n          \"Senior Manager\"\n        ],\n        \"semantic_type\": \"\",\n        \"description\": \"\"\n      }\n    },\n    {\n      \"column\": \"salary\",\n      \"properties\": {\n        \"dtype\": \"number\",\n        \"std\": 19599.500227621265,\n        \"min\": 15174.0,\n        \"max\": 157054.0,\n        \"num_unique_values\": 1063,\n        \"samples\": [\n          117045.0,\n          82313.0,\n          57405.0\n        ],\n        \"semantic_type\": \"\",\n        \"description\": \"\"\n      }\n    },\n    {\n      \"column\": \"join_date\",\n      \"properties\": {\n        \"dtype\": \"string\",\n        \"num_unique_values\": 845,\n        \"samples\": [\n          \"2025-01-02\",\n          \"2020-08-26\",\n          \"2021-06-13\"\n        ],\n        \"semantic_type\": \"\",\n        \"description\": \"\"\n      }\n    },\n    {\n      \"column\": \"performance_score\",\n      \"properties\": {\n        \"dtype\": \"number\",\n        \"std\": 1,\n        \"min\": -1,\n        \"max\": 5,\n        \"num_unique_values\": 6,\n        \"samples\": [\n          5,\n          3,\n          1\n        ],\n        \"semantic_type\": \"\",\n        \"description\": \"\"\n      }\n    }\n  ]\n}"
            }
          },
          "metadata": {},
          "execution_count": 52
        }
      ],
      "source": [
        "# Convert performance_score to numeric, coercing errors to NaN\n",
        "df['performance_score'] = pd.to_numeric(df['performance_score'], errors='coerce')\n",
        "\n",
        "# Replace None (NaN) values with -1\n",
        "df['performance_score'].fillna(-1, inplace=True)\n",
        "\n",
        "# Convert the column to integer type\n",
        "df['performance_score'] = df['performance_score'].astype(int)\n",
        "\n",
        "df.head()"
      ]
    },
    {
      "cell_type": "markdown",
      "id": "760777c5-e9a7-4e43-8981-c72a239b23c4",
      "metadata": {
        "id": "760777c5-e9a7-4e43-8981-c72a239b23c4"
      },
      "source": [
        "# 📆 **Date Format Standardization**  \n",
        "**Reason:**  \n",
        "- A consistent date format (`YYYY-MM-DD`) is essential for:  \n",
        "   - **Time-Based Analysis** – Accurate correlation and trend analysis  \n",
        "   - **Join Year Extraction** – Helps in analyzing salary trends over time  \n",
        "\n",
        "📅 Handle conversion errors gracefully to maintain data integrity.  \n"
      ]
    },
    {
      "cell_type": "code",
      "execution_count": 53,
      "id": "69d86a46-b8fc-4f5e-8478-c4ba6893dfd9",
      "metadata": {
        "colab": {
          "base_uri": "https://localhost:8080/"
        },
        "id": "69d86a46-b8fc-4f5e-8478-c4ba6893dfd9",
        "outputId": "1975a703-6be8-4bef-97fa-dbe553d0982e"
      },
      "outputs": [
        {
          "output_type": "stream",
          "name": "stdout",
          "text": [
            "Error converting 'nan' to date: NaTType does not support strftime\n",
            "Error converting 'nan' to date: NaTType does not support strftime\n",
            "Error converting 'nan' to date: NaTType does not support strftime\n",
            "Error converting 'nan' to date: NaTType does not support strftime\n",
            "Error converting 'nan' to date: NaTType does not support strftime\n",
            "Error converting 'nan' to date: NaTType does not support strftime\n",
            "Error converting 'nan' to date: NaTType does not support strftime\n",
            "Error converting 'nan' to date: NaTType does not support strftime\n",
            "Error converting 'nan' to date: NaTType does not support strftime\n",
            "Error converting 'nan' to date: NaTType does not support strftime\n",
            "Error converting 'nan' to date: NaTType does not support strftime\n",
            "Error converting 'nan' to date: NaTType does not support strftime\n",
            "Error converting 'nan' to date: NaTType does not support strftime\n",
            "Error converting 'nan' to date: NaTType does not support strftime\n",
            "Error converting 'nan' to date: NaTType does not support strftime\n",
            "Error converting 'nan' to date: NaTType does not support strftime\n",
            "Error converting 'nan' to date: NaTType does not support strftime\n",
            "Error converting 'nan' to date: NaTType does not support strftime\n",
            "Error converting 'nan' to date: NaTType does not support strftime\n",
            "Error converting 'nan' to date: NaTType does not support strftime\n",
            "Error converting 'nan' to date: NaTType does not support strftime\n"
          ]
        },
        {
          "output_type": "stream",
          "name": "stderr",
          "text": [
            "<ipython-input-53-cbb0be36cbc0>:4: UserWarning: Parsing dates in %d-%m-%Y format when dayfirst=False (the default) was specified. Pass `dayfirst=True` or specify a format to silence this warning.\n",
            "  return pd.to_datetime(row, errors='raise').strftime('%Y-%m-%d')\n"
          ]
        },
        {
          "output_type": "stream",
          "name": "stdout",
          "text": [
            "Error converting 'nan' to date: NaTType does not support strftime\n",
            "Error converting 'nan' to date: NaTType does not support strftime\n",
            "Error converting 'nan' to date: NaTType does not support strftime\n",
            "Error converting 'nan' to date: NaTType does not support strftime\n",
            "Error converting 'nan' to date: NaTType does not support strftime\n",
            "Error converting 'nan' to date: NaTType does not support strftime\n",
            "Error converting 'nan' to date: NaTType does not support strftime\n",
            "Error converting 'nan' to date: NaTType does not support strftime\n",
            "Error converting 'nan' to date: NaTType does not support strftime\n",
            "Error converting 'nan' to date: NaTType does not support strftime\n",
            "Error converting 'nan' to date: NaTType does not support strftime\n",
            "Error converting 'nan' to date: NaTType does not support strftime\n",
            "Error converting 'nan' to date: NaTType does not support strftime\n",
            "Error converting 'nan' to date: NaTType does not support strftime\n",
            "Error converting 'nan' to date: NaTType does not support strftime\n",
            "Error converting 'nan' to date: NaTType does not support strftime\n",
            "Error converting 'nan' to date: NaTType does not support strftime\n",
            "Error converting 'nan' to date: NaTType does not support strftime\n",
            "Error converting 'nan' to date: NaTType does not support strftime\n",
            "Error converting 'nan' to date: NaTType does not support strftime\n",
            "Error converting 'nan' to date: NaTType does not support strftime\n",
            "Error converting 'nan' to date: NaTType does not support strftime\n",
            "Error converting 'nan' to date: NaTType does not support strftime\n",
            "Error converting 'nan' to date: NaTType does not support strftime\n",
            "Error converting 'nan' to date: NaTType does not support strftime\n",
            "Error converting 'nan' to date: NaTType does not support strftime\n",
            "Error converting 'nan' to date: NaTType does not support strftime\n",
            "Error converting 'nan' to date: NaTType does not support strftime\n",
            "Error converting 'nan' to date: NaTType does not support strftime\n",
            "Error converting 'nan' to date: NaTType does not support strftime\n",
            "Error converting 'nan' to date: NaTType does not support strftime\n",
            "Error converting 'nan' to date: NaTType does not support strftime\n",
            "Error converting 'nan' to date: NaTType does not support strftime\n",
            "Error converting 'nan' to date: NaTType does not support strftime\n",
            "Error converting 'nan' to date: NaTType does not support strftime\n",
            "Error converting 'nan' to date: NaTType does not support strftime\n",
            "Error converting 'nan' to date: NaTType does not support strftime\n",
            "Error converting 'nan' to date: NaTType does not support strftime\n",
            "Error converting 'nan' to date: NaTType does not support strftime\n",
            "Error converting 'nan' to date: NaTType does not support strftime\n",
            "Error converting 'nan' to date: NaTType does not support strftime\n",
            "Error converting 'nan' to date: NaTType does not support strftime\n",
            "Error converting 'nan' to date: NaTType does not support strftime\n",
            "Error converting 'nan' to date: NaTType does not support strftime\n",
            "Error converting 'nan' to date: NaTType does not support strftime\n",
            "Error converting 'nan' to date: NaTType does not support strftime\n",
            "Error converting 'nan' to date: NaTType does not support strftime\n",
            "Error converting 'nan' to date: NaTType does not support strftime\n",
            "Error converting 'nan' to date: NaTType does not support strftime\n",
            "Error converting 'nan' to date: NaTType does not support strftime\n",
            "Error converting 'nan' to date: NaTType does not support strftime\n",
            "Error converting 'nan' to date: NaTType does not support strftime\n",
            "Error converting 'nan' to date: NaTType does not support strftime\n",
            "Error converting 'nan' to date: NaTType does not support strftime\n",
            "Error converting 'nan' to date: NaTType does not support strftime\n",
            "Error converting 'nan' to date: NaTType does not support strftime\n",
            "Error converting 'nan' to date: NaTType does not support strftime\n",
            "Error converting 'nan' to date: NaTType does not support strftime\n",
            "Error converting 'nan' to date: NaTType does not support strftime\n",
            "Error converting 'nan' to date: NaTType does not support strftime\n",
            "Error converting 'nan' to date: NaTType does not support strftime\n",
            "Error converting 'nan' to date: NaTType does not support strftime\n",
            "Error converting 'nan' to date: NaTType does not support strftime\n",
            "Error converting 'nan' to date: NaTType does not support strftime\n",
            "Error converting 'nan' to date: NaTType does not support strftime\n",
            "Error converting 'nan' to date: NaTType does not support strftime\n",
            "Error converting 'nan' to date: NaTType does not support strftime\n",
            "Error converting 'nan' to date: NaTType does not support strftime\n",
            "Error converting 'nan' to date: NaTType does not support strftime\n",
            "Error converting 'nan' to date: NaTType does not support strftime\n",
            "Error converting 'nan' to date: NaTType does not support strftime\n",
            "Error converting 'nan' to date: NaTType does not support strftime\n",
            "Error converting 'nan' to date: NaTType does not support strftime\n",
            "Error converting 'nan' to date: NaTType does not support strftime\n",
            "Error converting 'nan' to date: NaTType does not support strftime\n",
            "Error converting 'nan' to date: NaTType does not support strftime\n",
            "Error converting 'nan' to date: NaTType does not support strftime\n",
            "Error converting 'nan' to date: NaTType does not support strftime\n",
            "Error converting 'nan' to date: NaTType does not support strftime\n",
            "Error converting 'nan' to date: NaTType does not support strftime\n",
            "Error converting 'nan' to date: NaTType does not support strftime\n",
            "Error converting 'nan' to date: NaTType does not support strftime\n",
            "Error converting 'nan' to date: NaTType does not support strftime\n",
            "Error converting 'nan' to date: NaTType does not support strftime\n",
            "Error converting 'nan' to date: NaTType does not support strftime\n"
          ]
        }
      ],
      "source": [
        "def convert_join_date(row):\n",
        "    try:\n",
        "        # Convert join_date to datetime format\n",
        "        return pd.to_datetime(row, errors='raise').strftime('%Y-%m-%d')\n",
        "    except Exception as e:\n",
        "        print(f\"Error converting '{row}' to date: {e}\")\n",
        "        return None  # Return None if conversion fails\n",
        "\n",
        "# Apply the function to the join_date column\n",
        "df['join_date'] = df['join_date'].apply(convert_join_date)\n",
        "\n",
        "# Create a new 'join_year' column from the converted 'join_date' column\n",
        "df['join_year'] = pd.to_datetime(df['join_date'], errors='coerce').dt.year"
      ]
    },
    {
      "cell_type": "markdown",
      "id": "ad418933-03ef-4ca1-9c6c-3083883de18e",
      "metadata": {
        "id": "ad418933-03ef-4ca1-9c6c-3083883de18e"
      },
      "source": [
        "# 📉 **Missing Salary Imputation**  \n",
        "**Reason:**  \n",
        "- Missing salary values can interfere with salary-based calculations, such as:  \n",
        "   - **Average Salary** – Incomplete or biased  \n",
        "   - **Correlations** – Distorted relationships with other factors  \n",
        "\n",
        "✅ Impute missing salary values using the **median salary per department** to ensure consistent and unbiased analysis.  \n"
      ]
    },
    {
      "cell_type": "code",
      "execution_count": 54,
      "id": "5ddd4e65-13e3-426a-8128-3f0cbe903634",
      "metadata": {
        "id": "5ddd4e65-13e3-426a-8128-3f0cbe903634"
      },
      "outputs": [],
      "source": [
        "# Calculate the median salary for each department and fill missing salary values\n",
        "df['salary'] = df.groupby('department')['salary'].transform(lambda x: x.fillna(x.median()))"
      ]
    },
    {
      "cell_type": "markdown",
      "id": "fc03a60d-a0ed-4228-9f46-86b99af664bc",
      "metadata": {
        "id": "fc03a60d-a0ed-4228-9f46-86b99af664bc"
      },
      "source": [
        "# 🚨 **Salary Outlier Removal**  \n",
        "**Reason:**  \n",
        "- Outliers can significantly distort statistical measures:  \n",
        "   - **Average Salary** – Extreme values skew the mean  \n",
        "   - **Correlation and Trend Analysis** – Misleading relationships  \n",
        "\n",
        "🚫 Remove outliers more than **3 standard deviations** from the mean to improve data quality and representativeness.  \n"
      ]
    },
    {
      "cell_type": "code",
      "execution_count": 55,
      "id": "e99268ac-f54c-4287-b3b2-ad84c3aa4326",
      "metadata": {
        "colab": {
          "base_uri": "https://localhost:8080/"
        },
        "id": "e99268ac-f54c-4287-b3b2-ad84c3aa4326",
        "outputId": "896c2224-bc09-4bb9-c66b-2b5fd9673ecf"
      },
      "outputs": [
        {
          "output_type": "stream",
          "name": "stdout",
          "text": [
            "Mean Salary: 80617.14833333333\n",
            "Standard Deviation of Salary: 18538.093635431527\n"
          ]
        }
      ],
      "source": [
        "# Calculate the mean and standard deviation of the salary column\n",
        "mean_salary = df['salary'].mean()\n",
        "std_salary = df['salary'].std()\n",
        "\n",
        "# Calculate the lower and upper bounds for salary (mean ± 3 * std)\n",
        "lower_bound = mean_salary - 3 * std_salary\n",
        "upper_bound = mean_salary + 3 * std_salary\n",
        "\n",
        "# Filter out rows where the salary is more than 3 standard deviations from the mean\n",
        "df_cleaned = df[(df['salary'] >= lower_bound) & (df['salary'] <= upper_bound)]\n",
        "\n",
        "# Print the cleaned DataFrame\n",
        "print(f\"Mean Salary: {mean_salary}\")\n",
        "print(f\"Standard Deviation of Salary: {std_salary}\")\n"
      ]
    },
    {
      "cell_type": "markdown",
      "id": "98d45dc3-8321-4c1a-841b-e63d8829d5b4",
      "metadata": {
        "id": "98d45dc3-8321-4c1a-841b-e63d8829d5b4"
      },
      "source": [
        "# 📧 **Email Domain Extraction**  \n",
        "**Reason:**  \n",
        "- Extracting the email domain can be useful for:  \n",
        "   - **Categorization** – Grouping employees by organization or department  \n",
        "   - **Missing or Invalid Emails** – Assign `None` to incomplete or invalid email addresses  \n",
        "\n",
        "📤 This step enhances data completeness but is not essential for core statistical analysis.  \n"
      ]
    },
    {
      "cell_type": "code",
      "execution_count": 56,
      "id": "3bfd1b00-687b-45bc-882a-1a0518d726f5",
      "metadata": {
        "id": "3bfd1b00-687b-45bc-882a-1a0518d726f5"
      },
      "outputs": [],
      "source": [
        "# Function to extract domain from the email address\n",
        "def extract_domain(email):\n",
        "    if pd.isna(email) or '@' not in email:\n",
        "        return None  # Return None for invalid or missing email addresses\n",
        "    return email.split('@')[-1]  # Extract domain part after '@'\n",
        "\n",
        "# Apply the function to the 'email' column to create the 'email_domain' column\n",
        "df['email_domain'] = df['email'].apply(extract_domain)"
      ]
    },
    {
      "cell_type": "markdown",
      "id": "0886501f-28e5-4275-a0ea-f3291ad3b953",
      "metadata": {
        "id": "0886501f-28e5-4275-a0ea-f3291ad3b953"
      },
      "source": [
        "\n",
        "# 🔗 **Salary Correlation Calculation**  \n",
        "**Reason:**  \n",
        "- Once the data is clean, you can accurately calculate the correlation between:  \n",
        "   - **Salary**  \n",
        "   - **Join Year**  \n",
        "\n",
        "📈 This reveals how salary trends over time, providing valuable business insights."
      ]
    },
    {
      "cell_type": "code",
      "execution_count": 57,
      "id": "87ea0a91-dd9f-47ff-8e90-f8bc429ba3bc",
      "metadata": {
        "colab": {
          "base_uri": "https://localhost:8080/"
        },
        "id": "87ea0a91-dd9f-47ff-8e90-f8bc429ba3bc",
        "outputId": "0a734a15-69ad-4c7b-9654-d077c84c85d1"
      },
      "outputs": [
        {
          "output_type": "stream",
          "name": "stdout",
          "text": [
            "Pearson correlation coefficient: -0.0034876559660849335\n"
          ]
        }
      ],
      "source": [
        "# Convert 'join_year' to numeric if it isn't already\n",
        "df['join_year'] = pd.to_numeric(df['join_year'], errors='coerce')\n",
        "\n",
        "# Drop rows where salary or join_year is NaN to avoid issues with correlation calculation\n",
        "df_cleaned = df.dropna(subset=['salary', 'join_year'])\n",
        "\n",
        "# Check if there are enough data points to calculate correlation\n",
        "if len(df_cleaned) > 1:\n",
        "    # Calculate Pearson correlation coefficient between 'salary' and 'join_year'\n",
        "    correlation, _ = pearsonr(df_cleaned['salary'], df_cleaned['join_year'])\n",
        "    print(f\"Pearson correlation coefficient: {correlation}\")\n",
        "else:\n",
        "    print(\"Insufficient data to calculate correlation.\")"
      ]
    },
    {
      "cell_type": "markdown",
      "id": "af307837-cd16-4120-93b4-02fd644e3e70",
      "metadata": {
        "id": "af307837-cd16-4120-93b4-02fd644e3e70"
      },
      "source": [
        "# 📊 **Average Salary Aggregation**  \n",
        "**Reason:**  \n",
        "- Final aggregation should be done after data cleaning and imputation to ensure accuracy:  \n",
        "   - **Average Salary Per Department** – Reliable department-level insights  \n",
        "   - **Job Level Insights** – Consistent performance evaluation"
      ]
    },
    {
      "cell_type": "code",
      "execution_count": 58,
      "id": "cb51dd75-b0e0-450d-b26d-cc3dbf1a1af9",
      "metadata": {
        "colab": {
          "base_uri": "https://localhost:8080/"
        },
        "id": "cb51dd75-b0e0-450d-b26d-cc3dbf1a1af9",
        "outputId": "15ea244c-e5ed-4108-85e3-4e3a32b75a86"
      },
      "outputs": [
        {
          "output_type": "stream",
          "name": "stdout",
          "text": [
            "job_title    Director Analyst  Director Consultant  Director Engineer  \\\n",
            "department                                                              \n",
            "Engineering      84576.266667         86662.333333       78999.500000   \n",
            "Finance          84758.833333         85511.500000       84410.100000   \n",
            "HR               81703.333333         83198.125000       75731.333333   \n",
            "IT               74393.083333         89941.888889       75353.687500   \n",
            "Marketing        76284.222222         76723.181818       78920.400000   \n",
            "Operations       83082.375000         88438.000000       84910.333333   \n",
            "Sales            75914.571429         78900.454545       73967.875000   \n",
            "\n",
            "job_title    Director Manager  Junior Analyst  Junior Consultant  \\\n",
            "department                                                         \n",
            "Engineering      88038.125000    74566.833333       89315.000000   \n",
            "Finance          84374.333333    81860.611111       89897.833333   \n",
            "HR               74284.454545    77661.111111       84381.250000   \n",
            "IT               61795.100000    88855.437500       75257.600000   \n",
            "Marketing        77597.333333    89081.285714       97934.200000   \n",
            "Operations       80882.090909    85687.812500       74578.392857   \n",
            "Sales            84931.250000    74683.428571       70701.285714   \n",
            "\n",
            "job_title    Junior Engineer  Junior Manager  Lead Analyst  Lead Consultant  \\\n",
            "department                                                                    \n",
            "Engineering     74473.357143    83115.400000  88598.500000     91025.166667   \n",
            "Finance         82466.800000    73036.125000  80620.625000     70112.090909   \n",
            "HR              90838.400000    76296.200000  74930.615385     84608.666667   \n",
            "IT              86554.909091    77754.857143  77049.555556     78516.666667   \n",
            "Marketing       85586.000000    86895.166667  82458.000000     69973.900000   \n",
            "Operations      79008.071429    81959.125000  90847.500000     73878.125000   \n",
            "Sales           84925.785714    86882.250000  76233.200000     93318.050000   \n",
            "\n",
            "job_title    Lead Engineer  Lead Manager  Manager Analyst  Manager Consultant  \\\n",
            "department                                                                      \n",
            "Engineering   83242.888889  73023.400000     71536.500000        81187.857143   \n",
            "Finance       82462.700000  91571.833333     80212.333333        79953.000000   \n",
            "HR            85935.363636  80783.875000     61347.000000        73679.857143   \n",
            "IT            79711.222222  81960.666667     82582.722222       103393.214286   \n",
            "Marketing     94057.833333  89815.625000     87182.250000        74147.142857   \n",
            "Operations    74996.650000  80802.083333     74241.800000        74570.222222   \n",
            "Sales         86024.291667  77505.083333     73003.928571        78273.400000   \n",
            "\n",
            "job_title    Manager Engineer  Manager Manager  Senior Analyst  \\\n",
            "department                                                       \n",
            "Engineering      80061.200000     71320.727273    87303.375000   \n",
            "Finance          80202.555556     88440.166667    89556.111111   \n",
            "HR               83068.285714     63211.900000    81647.333333   \n",
            "IT               78009.115385     85327.166667    78220.923077   \n",
            "Marketing        70557.800000     78042.800000    78188.333333   \n",
            "Operations       83876.181818     76997.363636    76746.545455   \n",
            "Sales            80603.423077     89595.285714    85535.388889   \n",
            "\n",
            "job_title    Senior Consultant  Senior Engineer  Senior Manager  \n",
            "department                                                       \n",
            "Engineering       84558.166667     85090.666667    80205.571429  \n",
            "Finance           72655.000000     85428.111111    66182.333333  \n",
            "HR                74589.333333     61696.000000    66031.333333  \n",
            "IT                86700.250000     90010.150000    70629.800000  \n",
            "Marketing         82694.000000     81794.600000    85593.071429  \n",
            "Operations        90775.750000     72367.571429    78528.833333  \n",
            "Sales             83753.250000     81188.600000    87238.750000  \n"
          ]
        }
      ],
      "source": [
        "# Create a pivot table to calculate average salary per department and job_level\n",
        "pivot_table = df.pivot_table(values='salary', index='department', columns='job_title', aggfunc='mean')\n",
        "\n",
        "# Print the pivot table\n",
        "print(pivot_table)"
      ]
    },
    {
      "cell_type": "code",
      "execution_count": 59,
      "id": "d6931c03-c997-4acf-ae40-95ff18eddedb",
      "metadata": {
        "colab": {
          "base_uri": "https://localhost:8080/",
          "height": 206
        },
        "id": "d6931c03-c997-4acf-ae40-95ff18eddedb",
        "outputId": "bb0173f3-028f-4e9b-8c40-e2c63bf988a8"
      },
      "outputs": [
        {
          "output_type": "execute_result",
          "data": {
            "text/plain": [
              "  employee_id first_name last_name                       email  \\\n",
              "0     EMP0001     Robert   Vasquez  anthonyhubbard@example.com   \n",
              "1     EMP0002    Barbara     Bruce    bonniethomas@example.com   \n",
              "2     EMP0003      Derek    Martin         smiller@example.net   \n",
              "3     EMP0004    Monique   Serrano        joseph51@example.net   \n",
              "4     EMP0005      Frank  Robinson       mariepope@example.net   \n",
              "\n",
              "                    phone   department          job_title    salary  \\\n",
              "0            395-797-9647           HR     Senior Analyst   89934.0   \n",
              "1  001-745-858-7716x94722           HR  Senior Consultant   77234.0   \n",
              "2        356-450-4481x832  Engineering  Senior Consultant   92953.0   \n",
              "3        001-852-702-8457        Sales    Senior Engineer  110460.0   \n",
              "4     +1-788-681-6711x207           HR    Manager Manager   75316.0   \n",
              "\n",
              "    join_date  performance_score  join_year email_domain  \n",
              "0  2022-09-06                  5     2022.0  example.com  \n",
              "1  2024-07-05                  5     2024.0  example.com  \n",
              "2  2022-11-02                  3     2022.0  example.net  \n",
              "3  2024-09-21                 -1     2024.0  example.net  \n",
              "4  2023-07-29                  2     2023.0  example.net  "
            ],
            "text/html": [
              "\n",
              "  <div id=\"df-02cc2f9a-68e0-4a5d-b875-532359bed418\" class=\"colab-df-container\">\n",
              "    <div>\n",
              "<style scoped>\n",
              "    .dataframe tbody tr th:only-of-type {\n",
              "        vertical-align: middle;\n",
              "    }\n",
              "\n",
              "    .dataframe tbody tr th {\n",
              "        vertical-align: top;\n",
              "    }\n",
              "\n",
              "    .dataframe thead th {\n",
              "        text-align: right;\n",
              "    }\n",
              "</style>\n",
              "<table border=\"1\" class=\"dataframe\">\n",
              "  <thead>\n",
              "    <tr style=\"text-align: right;\">\n",
              "      <th></th>\n",
              "      <th>employee_id</th>\n",
              "      <th>first_name</th>\n",
              "      <th>last_name</th>\n",
              "      <th>email</th>\n",
              "      <th>phone</th>\n",
              "      <th>department</th>\n",
              "      <th>job_title</th>\n",
              "      <th>salary</th>\n",
              "      <th>join_date</th>\n",
              "      <th>performance_score</th>\n",
              "      <th>join_year</th>\n",
              "      <th>email_domain</th>\n",
              "    </tr>\n",
              "  </thead>\n",
              "  <tbody>\n",
              "    <tr>\n",
              "      <th>0</th>\n",
              "      <td>EMP0001</td>\n",
              "      <td>Robert</td>\n",
              "      <td>Vasquez</td>\n",
              "      <td>anthonyhubbard@example.com</td>\n",
              "      <td>395-797-9647</td>\n",
              "      <td>HR</td>\n",
              "      <td>Senior Analyst</td>\n",
              "      <td>89934.0</td>\n",
              "      <td>2022-09-06</td>\n",
              "      <td>5</td>\n",
              "      <td>2022.0</td>\n",
              "      <td>example.com</td>\n",
              "    </tr>\n",
              "    <tr>\n",
              "      <th>1</th>\n",
              "      <td>EMP0002</td>\n",
              "      <td>Barbara</td>\n",
              "      <td>Bruce</td>\n",
              "      <td>bonniethomas@example.com</td>\n",
              "      <td>001-745-858-7716x94722</td>\n",
              "      <td>HR</td>\n",
              "      <td>Senior Consultant</td>\n",
              "      <td>77234.0</td>\n",
              "      <td>2024-07-05</td>\n",
              "      <td>5</td>\n",
              "      <td>2024.0</td>\n",
              "      <td>example.com</td>\n",
              "    </tr>\n",
              "    <tr>\n",
              "      <th>2</th>\n",
              "      <td>EMP0003</td>\n",
              "      <td>Derek</td>\n",
              "      <td>Martin</td>\n",
              "      <td>smiller@example.net</td>\n",
              "      <td>356-450-4481x832</td>\n",
              "      <td>Engineering</td>\n",
              "      <td>Senior Consultant</td>\n",
              "      <td>92953.0</td>\n",
              "      <td>2022-11-02</td>\n",
              "      <td>3</td>\n",
              "      <td>2022.0</td>\n",
              "      <td>example.net</td>\n",
              "    </tr>\n",
              "    <tr>\n",
              "      <th>3</th>\n",
              "      <td>EMP0004</td>\n",
              "      <td>Monique</td>\n",
              "      <td>Serrano</td>\n",
              "      <td>joseph51@example.net</td>\n",
              "      <td>001-852-702-8457</td>\n",
              "      <td>Sales</td>\n",
              "      <td>Senior Engineer</td>\n",
              "      <td>110460.0</td>\n",
              "      <td>2024-09-21</td>\n",
              "      <td>-1</td>\n",
              "      <td>2024.0</td>\n",
              "      <td>example.net</td>\n",
              "    </tr>\n",
              "    <tr>\n",
              "      <th>4</th>\n",
              "      <td>EMP0005</td>\n",
              "      <td>Frank</td>\n",
              "      <td>Robinson</td>\n",
              "      <td>mariepope@example.net</td>\n",
              "      <td>+1-788-681-6711x207</td>\n",
              "      <td>HR</td>\n",
              "      <td>Manager Manager</td>\n",
              "      <td>75316.0</td>\n",
              "      <td>2023-07-29</td>\n",
              "      <td>2</td>\n",
              "      <td>2023.0</td>\n",
              "      <td>example.net</td>\n",
              "    </tr>\n",
              "  </tbody>\n",
              "</table>\n",
              "</div>\n",
              "    <div class=\"colab-df-buttons\">\n",
              "\n",
              "  <div class=\"colab-df-container\">\n",
              "    <button class=\"colab-df-convert\" onclick=\"convertToInteractive('df-02cc2f9a-68e0-4a5d-b875-532359bed418')\"\n",
              "            title=\"Convert this dataframe to an interactive table.\"\n",
              "            style=\"display:none;\">\n",
              "\n",
              "  <svg xmlns=\"http://www.w3.org/2000/svg\" height=\"24px\" viewBox=\"0 -960 960 960\">\n",
              "    <path d=\"M120-120v-720h720v720H120Zm60-500h600v-160H180v160Zm220 220h160v-160H400v160Zm0 220h160v-160H400v160ZM180-400h160v-160H180v160Zm440 0h160v-160H620v160ZM180-180h160v-160H180v160Zm440 0h160v-160H620v160Z\"/>\n",
              "  </svg>\n",
              "    </button>\n",
              "\n",
              "  <style>\n",
              "    .colab-df-container {\n",
              "      display:flex;\n",
              "      gap: 12px;\n",
              "    }\n",
              "\n",
              "    .colab-df-convert {\n",
              "      background-color: #E8F0FE;\n",
              "      border: none;\n",
              "      border-radius: 50%;\n",
              "      cursor: pointer;\n",
              "      display: none;\n",
              "      fill: #1967D2;\n",
              "      height: 32px;\n",
              "      padding: 0 0 0 0;\n",
              "      width: 32px;\n",
              "    }\n",
              "\n",
              "    .colab-df-convert:hover {\n",
              "      background-color: #E2EBFA;\n",
              "      box-shadow: 0px 1px 2px rgba(60, 64, 67, 0.3), 0px 1px 3px 1px rgba(60, 64, 67, 0.15);\n",
              "      fill: #174EA6;\n",
              "    }\n",
              "\n",
              "    .colab-df-buttons div {\n",
              "      margin-bottom: 4px;\n",
              "    }\n",
              "\n",
              "    [theme=dark] .colab-df-convert {\n",
              "      background-color: #3B4455;\n",
              "      fill: #D2E3FC;\n",
              "    }\n",
              "\n",
              "    [theme=dark] .colab-df-convert:hover {\n",
              "      background-color: #434B5C;\n",
              "      box-shadow: 0px 1px 3px 1px rgba(0, 0, 0, 0.15);\n",
              "      filter: drop-shadow(0px 1px 2px rgba(0, 0, 0, 0.3));\n",
              "      fill: #FFFFFF;\n",
              "    }\n",
              "  </style>\n",
              "\n",
              "    <script>\n",
              "      const buttonEl =\n",
              "        document.querySelector('#df-02cc2f9a-68e0-4a5d-b875-532359bed418 button.colab-df-convert');\n",
              "      buttonEl.style.display =\n",
              "        google.colab.kernel.accessAllowed ? 'block' : 'none';\n",
              "\n",
              "      async function convertToInteractive(key) {\n",
              "        const element = document.querySelector('#df-02cc2f9a-68e0-4a5d-b875-532359bed418');\n",
              "        const dataTable =\n",
              "          await google.colab.kernel.invokeFunction('convertToInteractive',\n",
              "                                                    [key], {});\n",
              "        if (!dataTable) return;\n",
              "\n",
              "        const docLinkHtml = 'Like what you see? Visit the ' +\n",
              "          '<a target=\"_blank\" href=https://colab.research.google.com/notebooks/data_table.ipynb>data table notebook</a>'\n",
              "          + ' to learn more about interactive tables.';\n",
              "        element.innerHTML = '';\n",
              "        dataTable['output_type'] = 'display_data';\n",
              "        await google.colab.output.renderOutput(dataTable, element);\n",
              "        const docLink = document.createElement('div');\n",
              "        docLink.innerHTML = docLinkHtml;\n",
              "        element.appendChild(docLink);\n",
              "      }\n",
              "    </script>\n",
              "  </div>\n",
              "\n",
              "\n",
              "<div id=\"df-86e09798-67b1-468e-8d36-1d10d74c7ad1\">\n",
              "  <button class=\"colab-df-quickchart\" onclick=\"quickchart('df-86e09798-67b1-468e-8d36-1d10d74c7ad1')\"\n",
              "            title=\"Suggest charts\"\n",
              "            style=\"display:none;\">\n",
              "\n",
              "<svg xmlns=\"http://www.w3.org/2000/svg\" height=\"24px\"viewBox=\"0 0 24 24\"\n",
              "     width=\"24px\">\n",
              "    <g>\n",
              "        <path d=\"M19 3H5c-1.1 0-2 .9-2 2v14c0 1.1.9 2 2 2h14c1.1 0 2-.9 2-2V5c0-1.1-.9-2-2-2zM9 17H7v-7h2v7zm4 0h-2V7h2v10zm4 0h-2v-4h2v4z\"/>\n",
              "    </g>\n",
              "</svg>\n",
              "  </button>\n",
              "\n",
              "<style>\n",
              "  .colab-df-quickchart {\n",
              "      --bg-color: #E8F0FE;\n",
              "      --fill-color: #1967D2;\n",
              "      --hover-bg-color: #E2EBFA;\n",
              "      --hover-fill-color: #174EA6;\n",
              "      --disabled-fill-color: #AAA;\n",
              "      --disabled-bg-color: #DDD;\n",
              "  }\n",
              "\n",
              "  [theme=dark] .colab-df-quickchart {\n",
              "      --bg-color: #3B4455;\n",
              "      --fill-color: #D2E3FC;\n",
              "      --hover-bg-color: #434B5C;\n",
              "      --hover-fill-color: #FFFFFF;\n",
              "      --disabled-bg-color: #3B4455;\n",
              "      --disabled-fill-color: #666;\n",
              "  }\n",
              "\n",
              "  .colab-df-quickchart {\n",
              "    background-color: var(--bg-color);\n",
              "    border: none;\n",
              "    border-radius: 50%;\n",
              "    cursor: pointer;\n",
              "    display: none;\n",
              "    fill: var(--fill-color);\n",
              "    height: 32px;\n",
              "    padding: 0;\n",
              "    width: 32px;\n",
              "  }\n",
              "\n",
              "  .colab-df-quickchart:hover {\n",
              "    background-color: var(--hover-bg-color);\n",
              "    box-shadow: 0 1px 2px rgba(60, 64, 67, 0.3), 0 1px 3px 1px rgba(60, 64, 67, 0.15);\n",
              "    fill: var(--button-hover-fill-color);\n",
              "  }\n",
              "\n",
              "  .colab-df-quickchart-complete:disabled,\n",
              "  .colab-df-quickchart-complete:disabled:hover {\n",
              "    background-color: var(--disabled-bg-color);\n",
              "    fill: var(--disabled-fill-color);\n",
              "    box-shadow: none;\n",
              "  }\n",
              "\n",
              "  .colab-df-spinner {\n",
              "    border: 2px solid var(--fill-color);\n",
              "    border-color: transparent;\n",
              "    border-bottom-color: var(--fill-color);\n",
              "    animation:\n",
              "      spin 1s steps(1) infinite;\n",
              "  }\n",
              "\n",
              "  @keyframes spin {\n",
              "    0% {\n",
              "      border-color: transparent;\n",
              "      border-bottom-color: var(--fill-color);\n",
              "      border-left-color: var(--fill-color);\n",
              "    }\n",
              "    20% {\n",
              "      border-color: transparent;\n",
              "      border-left-color: var(--fill-color);\n",
              "      border-top-color: var(--fill-color);\n",
              "    }\n",
              "    30% {\n",
              "      border-color: transparent;\n",
              "      border-left-color: var(--fill-color);\n",
              "      border-top-color: var(--fill-color);\n",
              "      border-right-color: var(--fill-color);\n",
              "    }\n",
              "    40% {\n",
              "      border-color: transparent;\n",
              "      border-right-color: var(--fill-color);\n",
              "      border-top-color: var(--fill-color);\n",
              "    }\n",
              "    60% {\n",
              "      border-color: transparent;\n",
              "      border-right-color: var(--fill-color);\n",
              "    }\n",
              "    80% {\n",
              "      border-color: transparent;\n",
              "      border-right-color: var(--fill-color);\n",
              "      border-bottom-color: var(--fill-color);\n",
              "    }\n",
              "    90% {\n",
              "      border-color: transparent;\n",
              "      border-bottom-color: var(--fill-color);\n",
              "    }\n",
              "  }\n",
              "</style>\n",
              "\n",
              "  <script>\n",
              "    async function quickchart(key) {\n",
              "      const quickchartButtonEl =\n",
              "        document.querySelector('#' + key + ' button');\n",
              "      quickchartButtonEl.disabled = true;  // To prevent multiple clicks.\n",
              "      quickchartButtonEl.classList.add('colab-df-spinner');\n",
              "      try {\n",
              "        const charts = await google.colab.kernel.invokeFunction(\n",
              "            'suggestCharts', [key], {});\n",
              "      } catch (error) {\n",
              "        console.error('Error during call to suggestCharts:', error);\n",
              "      }\n",
              "      quickchartButtonEl.classList.remove('colab-df-spinner');\n",
              "      quickchartButtonEl.classList.add('colab-df-quickchart-complete');\n",
              "    }\n",
              "    (() => {\n",
              "      let quickchartButtonEl =\n",
              "        document.querySelector('#df-86e09798-67b1-468e-8d36-1d10d74c7ad1 button');\n",
              "      quickchartButtonEl.style.display =\n",
              "        google.colab.kernel.accessAllowed ? 'block' : 'none';\n",
              "    })();\n",
              "  </script>\n",
              "</div>\n",
              "\n",
              "    </div>\n",
              "  </div>\n"
            ],
            "application/vnd.google.colaboratory.intrinsic+json": {
              "type": "dataframe",
              "variable_name": "df",
              "summary": "{\n  \"name\": \"df\",\n  \"rows\": 1200,\n  \"fields\": [\n    {\n      \"column\": \"employee_id\",\n      \"properties\": {\n        \"dtype\": \"string\",\n        \"num_unique_values\": 1200,\n        \"samples\": [\n          \"EMP1179\",\n          \"EMP0866\",\n          \"EMP0102\"\n        ],\n        \"semantic_type\": \"\",\n        \"description\": \"\"\n      }\n    },\n    {\n      \"column\": \"first_name\",\n      \"properties\": {\n        \"dtype\": \"category\",\n        \"num_unique_values\": 376,\n        \"samples\": [\n          \"Brandy\",\n          \"Roberta\",\n          \"Virginia\"\n        ],\n        \"semantic_type\": \"\",\n        \"description\": \"\"\n      }\n    },\n    {\n      \"column\": \"last_name\",\n      \"properties\": {\n        \"dtype\": \"category\",\n        \"num_unique_values\": 551,\n        \"samples\": [\n          \"Gill\",\n          \"Terrell\",\n          \"Stevens\"\n        ],\n        \"semantic_type\": \"\",\n        \"description\": \"\"\n      }\n    },\n    {\n      \"column\": \"email\",\n      \"properties\": {\n        \"dtype\": \"string\",\n        \"num_unique_values\": 992,\n        \"samples\": [\n          \"mirandacisneros@example.net\",\n          \"srogers@example.org\",\n          \"justin33@example.org\"\n        ],\n        \"semantic_type\": \"\",\n        \"description\": \"\"\n      }\n    },\n    {\n      \"column\": \"phone\",\n      \"properties\": {\n        \"dtype\": \"string\",\n        \"num_unique_values\": 1053,\n        \"samples\": [\n          \"531-928-4033\",\n          \"830-889-4870x605\",\n          \"001-920-848-7706\"\n        ],\n        \"semantic_type\": \"\",\n        \"description\": \"\"\n      }\n    },\n    {\n      \"column\": \"department\",\n      \"properties\": {\n        \"dtype\": \"category\",\n        \"num_unique_values\": 7,\n        \"samples\": [\n          \"HR\",\n          \"Engineering\",\n          \"Finance\"\n        ],\n        \"semantic_type\": \"\",\n        \"description\": \"\"\n      }\n    },\n    {\n      \"column\": \"job_title\",\n      \"properties\": {\n        \"dtype\": \"category\",\n        \"num_unique_values\": 20,\n        \"samples\": [\n          \"Senior Analyst\",\n          \"Lead Manager\",\n          \"Senior Manager\"\n        ],\n        \"semantic_type\": \"\",\n        \"description\": \"\"\n      }\n    },\n    {\n      \"column\": \"salary\",\n      \"properties\": {\n        \"dtype\": \"number\",\n        \"std\": 18538.093635431527,\n        \"min\": 15174.0,\n        \"max\": 157054.0,\n        \"num_unique_values\": 1066,\n        \"samples\": [\n          67987.0,\n          71205.0,\n          57507.0\n        ],\n        \"semantic_type\": \"\",\n        \"description\": \"\"\n      }\n    },\n    {\n      \"column\": \"join_date\",\n      \"properties\": {\n        \"dtype\": \"object\",\n        \"num_unique_values\": 838,\n        \"samples\": [\n          \"2020-03-31\",\n          \"2021-10-31\",\n          \"2024-04-09\"\n        ],\n        \"semantic_type\": \"\",\n        \"description\": \"\"\n      }\n    },\n    {\n      \"column\": \"performance_score\",\n      \"properties\": {\n        \"dtype\": \"number\",\n        \"std\": 1,\n        \"min\": -1,\n        \"max\": 5,\n        \"num_unique_values\": 6,\n        \"samples\": [\n          5,\n          3,\n          1\n        ],\n        \"semantic_type\": \"\",\n        \"description\": \"\"\n      }\n    },\n    {\n      \"column\": \"join_year\",\n      \"properties\": {\n        \"dtype\": \"number\",\n        \"std\": 1.4481697815286478,\n        \"min\": 2020.0,\n        \"max\": 2025.0,\n        \"num_unique_values\": 6,\n        \"samples\": [\n          2022.0,\n          2024.0,\n          2025.0\n        ],\n        \"semantic_type\": \"\",\n        \"description\": \"\"\n      }\n    },\n    {\n      \"column\": \"email_domain\",\n      \"properties\": {\n        \"dtype\": \"category\",\n        \"num_unique_values\": 5,\n        \"samples\": [\n          \"example.net\",\n          \"EXAMPLE.COM\",\n          \"example.org\"\n        ],\n        \"semantic_type\": \"\",\n        \"description\": \"\"\n      }\n    }\n  ]\n}"
            }
          },
          "metadata": {},
          "execution_count": 59
        }
      ],
      "source": [
        "df.head()"
      ]
    },
    {
      "cell_type": "markdown",
      "id": "7b6db47b-38b9-4803-8669-273a4b924644",
      "metadata": {
        "id": "7b6db47b-38b9-4803-8669-273a4b924644"
      },
      "source": [
        "# Additional Advanced Analysis and Predictive Insights for Employee Optimization"
      ]
    },
    {
      "cell_type": "markdown",
      "id": "a9035820-b6a1-47f8-8daa-3e5ea43e08d5",
      "metadata": {
        "id": "a9035820-b6a1-47f8-8daa-3e5ea43e08d5"
      },
      "source": [
        "# ✅ **Data Validation Checks**  \n",
        "**Reason:**\n",
        "- Demonstrates attention to detail and ensures the data makes sense, not just that it’s clean.  \n",
        "- Ensures that the data is logically consistent and falls within expected boundaries.  \n",
        "- Validating salary ranges and logical join dates prevents anomalies that could distort analysis.  \n",
        "\n"
      ]
    },
    {
      "cell_type": "code",
      "execution_count": 60,
      "id": "c8db917b-792c-4e8c-8b39-47b10bb38e74",
      "metadata": {
        "colab": {
          "base_uri": "https://localhost:8080/"
        },
        "id": "c8db917b-792c-4e8c-8b39-47b10bb38e74",
        "outputId": "0e6fa7c4-2331-4776-8103-434d18289c4d"
      },
      "outputs": [
        {
          "output_type": "stream",
          "name": "stdout",
          "text": [
            "                 min       max\n",
            "department                    \n",
            "Engineering  38651.0  131201.0\n",
            "Finance      26980.0  157054.0\n",
            "HR           15174.0  129106.0\n",
            "IT           38361.0  141577.0\n",
            "Marketing    35777.0  134403.0\n",
            "Operations   40248.0  132647.0\n",
            "Sales        30567.0  123809.0\n"
          ]
        }
      ],
      "source": [
        "# Check if salary is within a reasonable range for each department\n",
        "salary_min_max = df.groupby('department')['salary'].agg(['min', 'max'])\n",
        "print(salary_min_max)\n"
      ]
    },
    {
      "cell_type": "code",
      "execution_count": 61,
      "id": "280e9e06-1972-44bc-81ba-97b62fe0a645",
      "metadata": {
        "colab": {
          "base_uri": "https://localhost:8080/"
        },
        "id": "280e9e06-1972-44bc-81ba-97b62fe0a645",
        "outputId": "ff74c0b1-c730-4a25-a824-d92c76e124f7"
      },
      "outputs": [
        {
          "output_type": "execute_result",
          "data": {
            "text/plain": [
              "array(['Senior Analyst', 'Senior Consultant', 'Senior Engineer',\n",
              "       'Manager Manager', 'Junior Consultant', 'Lead Engineer',\n",
              "       'Director Engineer', 'Lead Consultant', 'Junior Analyst',\n",
              "       'Director Manager', 'Director Consultant', 'Manager Engineer',\n",
              "       'Manager Analyst', 'Junior Engineer', 'Director Analyst',\n",
              "       'Senior Manager', 'Junior Manager', 'Lead Manager',\n",
              "       'Manager Consultant', 'Lead Analyst'], dtype=object)"
            ]
          },
          "metadata": {},
          "execution_count": 61
        }
      ],
      "source": [
        "df['job_title'].unique()"
      ]
    },
    {
      "cell_type": "markdown",
      "source": [
        "# 📊 **Correlation Between Performance Score and Salary**  \n",
        "**Reason:**  \n",
        "- Helps identify if higher performance scores are linked to higher salaries.  \n",
        "- Understanding this correlation can reveal whether performance-based incentives are effectively implemented.  \n",
        "- Provides insights into potential salary adjustments to align with performance.  \n"
      ],
      "metadata": {
        "id": "BkVp7b_kt3V9"
      },
      "id": "BkVp7b_kt3V9"
    },
    {
      "cell_type": "code",
      "source": [
        "# Drop rows where salary or performance_score is NaN to avoid issues with correlation calculation\n",
        "df_cleaned = df.dropna(subset=['salary', 'performance_score'])\n",
        "\n",
        "# Check if there are enough data points to calculate correlation\n",
        "if len(df_cleaned) > 1:\n",
        "    # Calculate Pearson correlation coefficient between 'salary' and 'join_year'\n",
        "    correlation, _ = pearsonr(df_cleaned['salary'], df_cleaned['performance_score'])\n",
        "    print(f\"Pearson correlation coefficient: {correlation}\")\n",
        "else:\n",
        "    print(\"Insufficient data to calculate correlation.\")"
      ],
      "metadata": {
        "colab": {
          "base_uri": "https://localhost:8080/"
        },
        "id": "S-aQjnYsuCI1",
        "outputId": "16714d3e-b746-4f60-87e6-fc44a3dbdcb4"
      },
      "id": "S-aQjnYsuCI1",
      "execution_count": 62,
      "outputs": [
        {
          "output_type": "stream",
          "name": "stdout",
          "text": [
            "Pearson correlation coefficient: 0.014462836932214052\n"
          ]
        }
      ]
    },
    {
      "cell_type": "markdown",
      "source": [
        "### 🚀 Performance Score shows a stronger correlation with Salary than with Join Year!"
      ],
      "metadata": {
        "id": "LaZ1py7zuePT"
      },
      "id": "LaZ1py7zuePT"
    },
    {
      "cell_type": "markdown",
      "source": [
        "# 🔍 **Clustering for Employee Segmentation (K-means Clustering)**  \n",
        "**Reason:**  \n",
        "- Helps segment employees into distinct groups based on factors like **salary**, **job level**, **performance score**, and **tenure**.  \n",
        "- Identifies patterns such as **high-performing employees**, **underpaid employees**, or **employees at risk of leaving**.  \n",
        "- Demonstrates the ability to apply **unsupervised learning** to uncover hidden insights and support data-driven decisions.  \n"
      ],
      "metadata": {
        "id": "HiYy_Y8QpSRn"
      },
      "id": "HiYy_Y8QpSRn"
    },
    {
      "cell_type": "code",
      "execution_count": 63,
      "id": "cdd9370f-912c-44be-a7ee-9e70b381a4d9",
      "metadata": {
        "colab": {
          "base_uri": "https://localhost:8080/"
        },
        "id": "cdd9370f-912c-44be-a7ee-9e70b381a4d9",
        "outputId": "3c3833a2-7751-4505-bde4-1a2c6e545ed6"
      },
      "outputs": [
        {
          "output_type": "stream",
          "name": "stdout",
          "text": [
            "           job_title job_level\n",
            "0     Senior Analyst    Senior\n",
            "1  Senior Consultant    Senior\n",
            "2  Senior Consultant    Senior\n",
            "3    Senior Engineer    Senior\n",
            "4    Manager Manager   Manager\n"
          ]
        }
      ],
      "source": [
        "import pandas as pd\n",
        "\n",
        "# Define your mapping function\n",
        "def assign_job_level(job_title):\n",
        "    if 'Junior' in job_title:\n",
        "        return 'Junior'\n",
        "    elif 'Lead' in job_title:\n",
        "        return 'Lead'\n",
        "    elif 'Senior' in job_title:\n",
        "        return 'Senior'\n",
        "    elif 'Manager' in job_title:\n",
        "        return 'Manager'\n",
        "    elif 'Director' in job_title:\n",
        "        return 'Director'\n",
        "    return 'Other'  # For any other cases\n",
        "\n",
        "# Assuming you already have the DataFrame 'df'\n",
        "df['job_level'] = df['job_title'].apply(assign_job_level)\n",
        "\n",
        "# Check the result\n",
        "print(df[['job_title', 'job_level']].head())\n"
      ]
    },
    {
      "cell_type": "code",
      "execution_count": 64,
      "id": "a4f1379f-9eed-4766-b7f1-a9d813db1bb2",
      "metadata": {
        "colab": {
          "base_uri": "https://localhost:8080/"
        },
        "id": "a4f1379f-9eed-4766-b7f1-a9d813db1bb2",
        "outputId": "e191a3b9-12c0-40d1-9d10-a35a60453cb2"
      },
      "outputs": [
        {
          "output_type": "stream",
          "name": "stdout",
          "text": [
            "           job_title  job_level_num\n",
            "0     Senior Analyst              2\n",
            "1  Senior Consultant              2\n",
            "2  Senior Consultant              2\n",
            "3    Senior Engineer              2\n",
            "4    Manager Manager              3\n"
          ]
        }
      ],
      "source": [
        "import pandas as pd\n",
        "\n",
        "# Define the mapping function\n",
        "def assign_job_level_num(job_title):\n",
        "    if 'Junior' in job_title:\n",
        "        return 0\n",
        "    elif 'Lead' in job_title:\n",
        "        return 1\n",
        "    elif 'Senior' in job_title:\n",
        "        return 2\n",
        "    elif 'Manager' in job_title:\n",
        "        return 3\n",
        "    elif 'Director' in job_title:\n",
        "        return 4\n",
        "    return -1  # In case there is an unexpected job title\n",
        "\n",
        "# Assuming your DataFrame is named df\n",
        "df['job_level_num'] = df['job_title'].apply(assign_job_level_num)\n",
        "\n",
        "# Check the result\n",
        "print(df[['job_title', 'job_level_num']].head())\n"
      ]
    },
    {
      "cell_type": "code",
      "execution_count": 66,
      "id": "91bfb5ff-98cf-4385-81b8-3f985b03a5d5",
      "metadata": {
        "colab": {
          "base_uri": "https://localhost:8080/",
          "height": 564
        },
        "id": "91bfb5ff-98cf-4385-81b8-3f985b03a5d5",
        "outputId": "1dfd3707-68bb-470e-8bd0-fd059c0a3229"
      },
      "outputs": [
        {
          "output_type": "display_data",
          "data": {
            "text/plain": [
              "<Figure size 800x600 with 1 Axes>"
            ],
            "image/png": "[encoded data removed]"
          },
          "metadata": {}
        }
      ],
      "source": [
        "df['tenure_years'] = 2025 - df['join_year']\n",
        "\n",
        "# Drop rows with missing values\n",
        "df = df.dropna()\n",
        "\n",
        "# Select features for clustering\n",
        "features = df[['salary', 'performance_score', 'tenure_years', 'job_level_num']]\n",
        "\n",
        "# Normalize the data\n",
        "scaler = StandardScaler()\n",
        "features_scaled = scaler.fit_transform(features)\n",
        "\n",
        "# Apply KMeans clustering with fixed number of threads\n",
        "kmeans = KMeans(n_clusters=3, random_state=42)\n",
        "df['cluster'] = kmeans.fit_predict(features_scaled)\n",
        "\n",
        "# Visualize the clusters\n",
        "plt.figure(figsize=(8, 6))\n",
        "sns.scatterplot(x='salary', y='performance_score', hue='cluster', data=df, palette='viridis')\n",
        "plt.title('Employee Clusters')\n",
        "plt.show()\n"
      ]
    },
    {
      "cell_type": "code",
      "source": [
        "# Visualize the clusters\n",
        "plt.figure(figsize=(8, 6))\n",
        "sns.scatterplot(y='performance_score', x='job_level_num', hue='cluster', data=df, palette='viridis')\n",
        "plt.title('Employee Clusters')\n",
        "plt.show()"
      ],
      "metadata": {
        "colab": {
          "base_uri": "https://localhost:8080/",
          "height": 564
        },
        "id": "8wNo8cVcqb09",
        "outputId": "264be729-e574-4ba0-a439-745f6bea57d1"
      },
      "id": "8wNo8cVcqb09",
      "execution_count": 67,
      "outputs": [
        {
          "output_type": "display_data",
          "data": {
            "text/plain": [
              "<Figure size 800x600 with 1 Axes>"
            ],
            "image/png": "[encoded data removed]"
          },
          "metadata": {}
        }
      ]
    },
    {
      "cell_type": "markdown",
      "source": [
        "# 🏁 **Conclusion**  \n",
        "- 🟡 The **yellow cluster** primarily consists of employees with **job level ≥ 2** (Senior or above position)and it is not able to cross more than 2 as performance level.\n",
        "- 🟢 The **green cluster** shows a **wide variation** in **performance scores**.  \n",
        "- 🟣 The **dark violet cluster** mainly includes employees with **job level ≥ 3** (manager or above position)with the performance score ≥ 3\n"
      ],
      "metadata": {
        "id": "B2bf4JArpxi8"
      },
      "id": "B2bf4JArpxi8"
    }
  ],
  "metadata": {
    "kernelspec": {
      "display_name": "Python 3 (ipykernel)",
      "language": "python",
      "name": "python3"
    },
    "language_info": {
      "codemirror_mode": {
        "name": "ipython",
        "version": 3
      },
      "file_extension": ".py",
      "mimetype": "text/x-python",
      "name": "python",
      "nbconvert_exporter": "python",
      "pygments_lexer": "ipython3",
      "version": "3.10.9"
    },
    "colab": {
      "provenance": []
    }
  },
  "nbformat": 4,
  "nbformat_minor": 5
}